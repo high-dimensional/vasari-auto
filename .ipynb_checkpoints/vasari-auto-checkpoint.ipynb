{
 "cells": [
  {
   "cell_type": "markdown",
   "id": "2c6a14cb",
   "metadata": {},
   "source": [
    "# This is the codebase for VASARI-auto\n",
    "\n",
    "###\tvasari-auto.py | a pipeline for automated VASARI characterisation of glioma.\n",
    "\n",
    "###\tCopyright 2024 James Ruffle, High-Dimensional Neurology, UCL Queen Square Institute of Neurology.\n",
    "\n",
    "###\tThis program is licensed under the APACHE 2.0 license.\n",
    "\n",
    "###\tThis program is distributed in the hope that it will be useful, but WITHOUT ANY WARRANTY; without even the implied warranty of MERCHANTABILITY or FITNESS FOR A PARTICULAR PURPOSE.  \n",
    "\n",
    "###\tSee the License for more details.\n",
    "\n",
    "###\tThis code is part of the repository https://github.com/james-ruffle/vasari-auto\n",
    "\n",
    "###\tCorrespondence to Dr James K Ruffle by email: j.ruffle@ucl.ac.uk"
   ]
  },
  {
   "cell_type": "code",
   "execution_count": 4,
   "id": "24f0512b",
   "metadata": {},
   "outputs": [],
   "source": [
    "#Import packages\n",
    "import glob\n",
    "import numpy as np\n",
    "import sys\n",
    "import os\n",
    "import pandas as pd; \n",
    "import shutil\n",
    "import errno\n",
    "import subprocess\n",
    "from datetime import datetime\n",
    "from tqdm import tqdm\n",
    "import argparse\n",
    "import nibabel as nib\n",
    "from scipy.ndimage import label, generate_binary_structure\n",
    "import matplotlib.pyplot as plt\n",
    "from scipy import ndimage, misc\n",
    "import seaborn as sns\n",
    "from sklearn.metrics import *\n",
    "import time"
   ]
  },
  {
   "cell_type": "code",
   "execution_count": 5,
   "id": "16649dca",
   "metadata": {},
   "outputs": [],
   "source": [
    "# parser = argparse.ArgumentParser()\n",
    "# parser.add_argument(\"--path\", type=str, default='//', help='path of subject data, default=/home/jruffle/patient_studies/')\n",
    "# parser.add_argument(\"--nocleanup\", action='store_true', help='whether to prevent clean-up of temporary files, disabled by default')\n",
    "# args = parser.parse_args()"
   ]
  },
  {
   "cell_type": "code",
   "execution_count": null,
   "id": "0e53d944",
   "metadata": {},
   "outputs": [],
   "source": []
  }
 ],
 "metadata": {
  "kernelspec": {
   "display_name": "Python 3 (ipykernel)",
   "language": "python",
   "name": "python3"
  },
  "language_info": {
   "codemirror_mode": {
    "name": "ipython",
    "version": 3
   },
   "file_extension": ".py",
   "mimetype": "text/x-python",
   "name": "python",
   "nbconvert_exporter": "python",
   "pygments_lexer": "ipython3",
   "version": "3.10.6"
  }
 },
 "nbformat": 4,
 "nbformat_minor": 5
}
