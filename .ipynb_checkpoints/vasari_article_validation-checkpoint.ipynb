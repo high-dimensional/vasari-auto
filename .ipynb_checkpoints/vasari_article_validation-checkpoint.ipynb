{
 "cells": [
  {
   "cell_type": "markdown",
   "id": "d905db48",
   "metadata": {},
   "source": [
    "# This is the codebase for validation of VASARI-auto\n",
    "\n",
    "###\tvasari-auto.py | a pipeline for automated VASARI characterisation of glioma.\n",
    "\n",
    "###\tCopyright 2024 James Ruffle, High-Dimensional Neurology, UCL Queen Square Institute of Neurology.\n",
    "\n",
    "###\tThis program is licensed under the APACHE 2.0 license.\n",
    "\n",
    "###\tThis program is distributed in the hope that it will be useful, but WITHOUT ANY WARRANTY; without even the implied warranty of MERCHANTABILITY or FITNESS FOR A PARTICULAR PURPOSE.  \n",
    "\n",
    "###\tSee the License for more details.\n",
    "\n",
    "###\tThis code is part of the repository https://github.com/james-ruffle/vasari-auto\n",
    "\n",
    "###\tCorrespondence to Dr James K Ruffle by email: j.ruffle@ucl.ac.uk"
   ]
  },
  {
   "cell_type": "code",
   "execution_count": 1,
   "id": "a4130df2",
   "metadata": {},
   "outputs": [
    {
     "name": "stdout",
     "output_type": "stream",
     "text": [
      "/usr/bin/python3\n",
      "3.10.12 (main, Nov 20 2023, 15:14:05) [GCC 11.4.0]\n",
      "sys.version_info(major=3, minor=10, micro=12, releaselevel='final', serial=0)\n"
     ]
    }
   ],
   "source": [
    "import sys\n",
    "print(sys.executable)\n",
    "print(sys.version)\n",
    "print(sys.version_info)"
   ]
  },
  {
   "cell_type": "code",
   "execution_count": 2,
   "id": "6484321f",
   "metadata": {},
   "outputs": [],
   "source": [
    "#Import packages\n",
    "import glob\n",
    "import numpy as np\n",
    "import os\n",
    "import pandas as pd\n",
    "import shutil\n",
    "import errno\n",
    "import subprocess\n",
    "from datetime import datetime\n",
    "from tqdm import tqdm\n",
    "import argparse\n",
    "import nibabel as nib\n",
    "from scipy.ndimage import label, generate_binary_structure\n",
    "import matplotlib.pyplot as plt\n",
    "from scipy import ndimage, misc\n",
    "import seaborn as sns\n",
    "from sklearn.metrics import *\n",
    "import time\n",
    "from skimage.morphology import skeletonize\n",
    "import matplotlib.ticker as mticker\n",
    "from scipy import stats\n",
    "pd.set_option('display.max_rows', 500)\n",
    "pd.set_option('display.max_columns', 500)\n",
    "from sklearn.metrics import confusion_matrix, ConfusionMatrixDisplay\n",
    "import scipy\n",
    "from sklearn.metrics import cohen_kappa_score\n",
    "import sklearn\n",
    "\n",
    "sns.set_theme(style=\"whitegrid\")"
   ]
  },
  {
   "cell_type": "code",
   "execution_count": 3,
   "id": "8a4db2e2",
   "metadata": {},
   "outputs": [],
   "source": [
    "desktop = False\n",
    "mac = False\n",
    " \n",
    "if desktop:\n",
    "    user = 'jamesruffle'\n",
    "if not desktop:\n",
    "    user = 'jruffle'\n",
    "\n",
    "if mac:\n",
    "    user = '/Users/'+str(user)+'/Library/CloudStorage/OneDrive-UniversityCollegeLondon/'\n",
    "if not mac:\n",
    "    user = '/home/'+str(user)+'/OneDrive/'"
   ]
  },
  {
   "cell_type": "code",
   "execution_count": 4,
   "id": "3932f379",
   "metadata": {},
   "outputs": [
    {
     "name": "stdout",
     "output_type": "stream",
     "text": [
      "Number of lesions: 100\n",
      "\n",
      "#unique lesions: 87\n",
      "\n",
      "#number double reported for inter-rater variability: 13\n"
     ]
    }
   ],
   "source": [
    "#where annotated nifti segmentations will be pulled from\n",
    "seg_path = str(user)+'PhD/VASARI/data/RADIOLOGISTS/IMAGES/'\n",
    "\n",
    "#atlas paths\n",
    "atlases = str(user)+'PhD/VASARI/TUTORIAL/atlas_masks/'\n",
    "\n",
    "#consultant neuroradiologist validation\n",
    "df = pd.read_excel(str(user)+'PhD/VASARI/data/labelled_data/merged_radiologist_labelled_data.xlsx',index_col=0)\n",
    "for i, row in df.iterrows():\n",
    "    if 'UCSF' in df.loc[i,'filename']:\n",
    "        padded_num = row['filename'].split('-')[-1].zfill(4)\n",
    "        df.loc[i,'filename'] = 'UCSF-PDGM-'+str(padded_num)\n",
    "\n",
    "#segmentations to evaluate\n",
    "model_prediction = str(user)+'PhD/forFAITH/model_prediction/'\n",
    "neurorad_hand_label = str(user)+'PhD/forFAITH/neurorad_hand_label/'\n",
    "\n",
    "neurorad_hand_label_subs = df['filename'].values\n",
    "\n",
    "figures_out = str(user)+'PhD/VASARI/Results/figs_output/'\n",
    "\n",
    "print(\"Number of lesions: \"+str(len(neurorad_hand_label_subs)))\n",
    "print('')\n",
    "print('#unique lesions: '+str(len(df['filename'].unique())))\n",
    "print('')\n",
    "print('#number double reported for inter-rater variability: '+str(len(neurorad_hand_label_subs)-len(df['filename'].unique())))"
   ]
  },
  {
   "cell_type": "code",
   "execution_count": 5,
   "id": "b60cc2b7",
   "metadata": {},
   "outputs": [
    {
     "name": "stderr",
     "output_type": "stream",
     "text": [
      "100%|███████████████████████████████████████| 100/100 [00:00<00:00, 7718.91it/s]\n"
     ]
    }
   ],
   "source": [
    "time_str = '8m 43s'\n",
    "time_str\n",
    "\n",
    "def time_string_to_seconds(time_str):\n",
    "    minutes, seconds = int(time_str.split('m')[0]), int(time_str.split('m')[-1].split('s')[0])\n",
    "    total_seconds = minutes * 60 + seconds\n",
    "    return total_seconds\n",
    "\n",
    "for i, row in tqdm(df.iterrows(),total=len(df)):\n",
    "    df.loc[i,'time_taken_seconds']=time_string_to_seconds(row['time_taken_seconds'])"
   ]
  },
  {
   "cell_type": "code",
   "execution_count": 6,
   "id": "8fc6aa4c",
   "metadata": {},
   "outputs": [],
   "source": [
    "col_names = ['filename', 'reporter', 'time_taken_seconds',\n",
    "           'F1 Tumour Location', 'F2 Side of Tumour Epicenter',\n",
    "           'F3 Eloquent Brain', 'F4 Enhancement Quality',\n",
    "           'F5 Proportion Enhancing', 'F6 Proportion nCET',\n",
    "           'F7 Proportion Necrosis', 'F8 Cyst(s)', 'F9 Multifocal or Multicentric',\n",
    "           'F10 T1/FLAIR Ratio', 'F11 Thickness of enhancing margin',\n",
    "           'F12 Definition of the Enhancing margin',\n",
    "           'F13 Definition of the non-enhancing tumour margin',\n",
    "           'F14 Proportion of Oedema', 'F16 haemorrhage', 'F17 Diffusion',\n",
    "           'F18 Pial invasion', 'F19 Ependymal Invasion',\n",
    "           'F20 Cortical involvement', 'F21 Deep WM invasion', \n",
    "                 'F22 nCET Crosses Midline', 'F23 CET Crosses midline',\n",
    "                 'F24 satellites',\n",
    "           'F25 Calvarial modelling', 'COMMENTS']\n",
    "\n",
    "new_dataframe_for_modelling_hand_label = pd.DataFrame(columns=col_names)\n",
    "new_dataframe_for_modelling_hand_label['filename']=neurorad_hand_label+neurorad_hand_label_subs+'.nii.gz'\n",
    "\n",
    "new_dataframe_for_modelling_tumour_seg = pd.DataFrame(columns=col_names)\n",
    "new_dataframe_for_modelling_tumour_seg['filename']=model_prediction+neurorad_hand_label_subs+'.nii.gz'"
   ]
  },
  {
   "cell_type": "code",
   "execution_count": 7,
   "id": "6e747baf-5059-4424-951c-20ecba23a865",
   "metadata": {},
   "outputs": [],
   "source": [
    "from vasari_auto import get_vasari_features"
   ]
  },
  {
   "cell_type": "code",
   "execution_count": 8,
   "id": "e056279c",
   "metadata": {},
   "outputs": [
    {
     "name": "stderr",
     "output_type": "stream",
     "text": [
      "100%|█████████████████████████████████████████| 100/100 [05:07<00:00,  3.07s/it]\n"
     ]
    }
   ],
   "source": [
    "for i, row in tqdm(new_dataframe_for_modelling_hand_label.iterrows(),total=len(new_dataframe_for_modelling_hand_label)):\n",
    "    result = get_vasari_features(file=row['filename'])\n",
    "    new_dataframe_for_modelling_hand_label.iloc[i,:]=result.values[0]"
   ]
  },
  {
   "cell_type": "code",
   "execution_count": null,
   "id": "e1c2023c",
   "metadata": {},
   "outputs": [
    {
     "name": "stderr",
     "output_type": "stream",
     "text": [
      " 38%|███████████████▉                          | 38/100 [01:34<02:26,  2.36s/it]"
     ]
    }
   ],
   "source": [
    "for i, row in tqdm(new_dataframe_for_modelling_tumour_seg.iterrows(),total=len(new_dataframe_for_modelling_tumour_seg)):\n",
    "    result = get_vasari_features(file=row['filename'])\n",
    "    new_dataframe_for_modelling_tumour_seg.iloc[i,:]=result.values[0]"
   ]
  },
  {
   "cell_type": "code",
   "execution_count": null,
   "id": "25d1a8eb",
   "metadata": {},
   "outputs": [],
   "source": [
    "all_data = pd.concat([df,new_dataframe_for_modelling_hand_label,new_dataframe_for_modelling_tumour_seg]).reset_index(drop=True)\n",
    "all_data['time_taken_seconds'] = all_data['time_taken_seconds'].astype(float)\n",
    "all_data['mode']='Consultant\\nNeuroradiologist'\n",
    "all_data.loc[all_data['reporter']=='VASARI-auto','mode']='VASARI-auto'\n",
    "all_data.loc[all_data['reporter']=='KPB','reporter']='Neuroradiologist #1'\n",
    "all_data.loc[all_data['reporter']=='HH','reporter']='Neuroradiologist #2'\n",
    "all_data.rename(columns={'reporter':'Reporter'},inplace=True)\n",
    "all_data['DataOrigin']='HandDrawn'\n",
    "\n",
    "for i, row in all_data.iterrows():\n",
    "    if 'model_prediction' in all_data.loc[i,'filename']:\n",
    "        all_data.loc[i,'DataOrigin']='TumourSeg'\n",
    "        \n",
    "    all_data.loc[i,'filename']=all_data.loc[i,'filename'].split('/')[-1]\n",
    "    all_data.loc[i,'filename']=all_data.loc[i,'filename'].split('.nii.gz')[0]"
   ]
  },
  {
   "cell_type": "code",
   "execution_count": null,
   "id": "9aa37d0c",
   "metadata": {},
   "outputs": [],
   "source": [
    "all_data.columns"
   ]
  },
  {
   "cell_type": "code",
   "execution_count": null,
   "id": "3a72ae00",
   "metadata": {},
   "outputs": [],
   "source": [
    "def get_ytrue_ypred(df=all_data,hand_drawn_only=True):\n",
    "    y_true = df.loc[df['mode']=='Consultant\\nNeuroradiologist']\n",
    "    y_pred = df.loc[df['mode']=='VASARI-auto']\n",
    "\n",
    "    if hand_drawn_only:\n",
    "        y_pred = y_pred.loc[y_pred['DataOrigin']=='HandDrawn']\n",
    "    \n",
    "    y_true = y_true.drop_duplicates(subset='filename').sort_values(by='filename').reset_index(drop=True)\n",
    "    y_pred = y_pred.drop_duplicates(subset='filename').sort_values(by='filename').reset_index(drop=True)\n",
    "    \n",
    "    if list(y_true['filename']) != list(y_pred['filename']):\n",
    "        print('MISMATCH!')\n",
    "    \n",
    "    return y_true, y_pred"
   ]
  },
  {
   "cell_type": "code",
   "execution_count": null,
   "id": "b46907cd",
   "metadata": {},
   "outputs": [],
   "source": [
    "y_true, y_pred = get_ytrue_ypred()\n",
    "vasari_metric='F4 Enhancement Quality'\n",
    "\n",
    "print(accuracy_score(y_true=y_true[vasari_metric].values.astype(int),y_pred=y_pred[vasari_metric].values.astype(int)))\n",
    "print(sklearn.metrics.balanced_accuracy_score(y_true=y_true[vasari_metric].values.astype(int),y_pred=y_pred[vasari_metric].values.astype(int)))\n",
    "\n",
    "# sklearn.metrics.balanced_accuracy_score\n",
    "\n",
    "cm = confusion_matrix(y_true[vasari_metric].values.astype(int), y_pred=y_pred[vasari_metric].values.astype(int),labels=np.unique(y_true[vasari_metric].values.astype(int)))\n",
    "disp = ConfusionMatrixDisplay(confusion_matrix=cm,display_labels=np.unique(y_true[vasari_metric].values.astype(int)))\n",
    "disp.plot()\n",
    "plt.title(vasari_metric)"
   ]
  },
  {
   "cell_type": "code",
   "execution_count": null,
   "id": "df6eeb1c-7640-4cbd-8b56-8704c8467022",
   "metadata": {},
   "outputs": [],
   "source": [
    "y_pred"
   ]
  },
  {
   "cell_type": "code",
   "execution_count": null,
   "id": "27287971-48b5-42f3-a355-7891833ffe5a",
   "metadata": {},
   "outputs": [],
   "source": [
    "# y_pred\n",
    "\n",
    "#cortical 72 with cortical_thresh=1000\n",
    "#ependymal 79 with t_ependymal=5000, ( 3500 looked well calibrated)\n",
    "#deep wm 74, t_w=100, trying 350 (150 not enough) ###though 350 looked reasonably well calibrated...\n",
    "# satellites 86 at 20, trying 15 (10 is too much)"
   ]
  },
  {
   "cell_type": "code",
   "execution_count": null,
   "id": "8839c78c-2103-4ab0-80a2-cbf4850130df",
   "metadata": {},
   "outputs": [],
   "source": [
    "    # result = pd.DataFrame(columns=col_names)\n",
    "    # result.loc[len(result)] = {'filename':file,\n",
    "    #                            'reporter':'VASARI-auto',\n",
    "    #                           'time_taken_seconds':time_taken,\n",
    "    #                           'F1 Tumour Location':F1_dict[vols.iloc[0,0]], #vols.iloc[0,0],\n",
    "    #                           'F2 Side of Tumour Epicenter':F2_dict[side],\n",
    "    #                           'F3 Eloquent Brain':np.nan, #unsupported in current version\n",
    "    #                           'F4 Enhancement Quality':enhancement_quality,\n",
    "    #                           'F5 Proportion Enhancing':proportion_enhancing_f,\n",
    "    #                           'F6 Proportion nCET':proportion_nonenhancing_f,\n",
    "    #                           'F7 Proportion Necrosis':proportion_necrosis_f,\n",
    "    #                           'F8 Cyst(s)':num_components_ncet_f,\n",
    "    #                             'F9 Multifocal or Multicentric':f9_multifocal,\n",
    "    #                            'F10 T1/FLAIR Ratio':np.nan,  #unsupported in current version\n",
    "    #                            'F11 Thickness of enhancing margin':enhancing_thickness_f,\n",
    "    #                            'F12 Definition of the Enhancing margin':np.nan,  #unsupported in current version\n",
    "    #                            'F13 Definition of the non-enhancing tumour margin':np.nan,  #unsupported in current version\n",
    "    #                            'F14 Proportion of Oedema': proportion_oedema_f,\n",
    "    #                            'F16 haemorrhage':np.nan,  #unsupported in current version\n",
    "    #                            'F17 Diffusion':np.nan,  #unsupported in current version\n",
    "    #                            'F18 Pial invasion':np.nan, #unsupported in current version\n",
    "    #                            'F19 Ependymal Invasion':ependymal, \n",
    "    #                            'F20 Cortical involvement':cortical_lesioned_voxels_f,\n",
    "    #                            'F21 Deep WM invasion':deep_wm_f, \n",
    "    #                            'F22 nCET Crosses Midline':nCET_cross_midline_f,\n",
    "    #                            'F23 CET Crosses midline':CET_cross_midline_f,\n",
    "    #                            'F24 satellites':num_components_cet_f, \n",
    "    #                            'F25 Calvarial modelling':np.nan, #unsupported in current version\n",
    "    #                            'COMMENTS':'Please note that this software is in beta and utilises only irrevocably anonymised lesion masks. VASARI features that require source data shall not be derived and return NaN'\n",
    "    #                           }"
   ]
  },
  {
   "cell_type": "code",
   "execution_count": null,
   "id": "fc203081-1580-4919-a445-14836062b8c5",
   "metadata": {},
   "outputs": [],
   "source": [
    "balanced_accuracy_dict = {}\n",
    "\n",
    "for c in all_data.columns:\n",
    "    vasari_metric=c\n",
    "    try:\n",
    "        print(vasari_metric+' '+str(accuracy_score(y_true=y_true[vasari_metric].values.astype(int),y_pred=y_pred[vasari_metric].values.astype(int))))\n",
    "        balanced_accuracy_dict[c]=accuracy_score(y_true=y_true[vasari_metric].values.astype(int),y_pred=y_pred[vasari_metric].values.astype(int))\n",
    "        # balanced_accuracy_dict[c]=sklearn.metrics.balanced_accuracy_score(y_true=y_true[vasari_metric].values.astype(int),y_pred=y_pred[vasari_metric].values.astype(int))\n",
    "            \n",
    "    except:\n",
    "        balanced_accuracy_dict[c]=0\n",
    "\n",
    "del balanced_accuracy_dict['time_taken_seconds']\n",
    "del balanced_accuracy_dict['OS']\n",
    "del balanced_accuracy_dict['Reporter']\n",
    "del balanced_accuracy_dict['filename']\n",
    "del balanced_accuracy_dict['COMMENTS']\n",
    "del balanced_accuracy_dict['mode']\n",
    "del balanced_accuracy_dict['DataOrigin']\n",
    "\n",
    "del balanced_accuracy_dict['F3 Eloquent Brain']\n",
    "del balanced_accuracy_dict['F10 T1/FLAIR Ratio']\n",
    "del balanced_accuracy_dict['F12 Definition of the Enhancing margin']\n",
    "del balanced_accuracy_dict['F13 Definition of the non-enhancing tumour margin']\n",
    "del balanced_accuracy_dict['F16 haemorrhage']\n",
    "del balanced_accuracy_dict['F17 Diffusion']\n",
    "del balanced_accuracy_dict['F18 Pial invasion']\n",
    "del balanced_accuracy_dict['F25 Calvarial modelling']\n",
    "del balanced_accuracy_dict['F8 Cyst(s)']"
   ]
  },
  {
   "cell_type": "code",
   "execution_count": null,
   "id": "ef27096b-9eb3-4afc-87be-266d396e9644",
   "metadata": {},
   "outputs": [],
   "source": [
    "accuracy_metrics = pd.DataFrame(list(balanced_accuracy_dict.values()),columns=['Neuroradiologist VASARI (GT):VASARI-auto accuracy'])\n",
    "accuracy_metrics['Feature']=list(balanced_accuracy_dict.keys())\n",
    "accuracy_metrics['Neuroradiologist VASARI (GT):VASARI-auto agreement']=0\n",
    "accuracy_metrics['Neuroradiologist VASARI (GT) inter-rater agreement']=0\n",
    "accuracy_metrics['VASARI-auto using Neuroradiologist segmentation (GT):VASARI-auto using Tumour Segmentation model accuracy']=0\n",
    "accuracy_metrics['VASARI-auto using Neuroradiologist segmentation (GT):VASARI-auto using Tumour Segmentation model agreement']=0\n",
    "accuracy_metrics['CKS weight']=None\n",
    "\n",
    "linears = ['F4 Enhancement Quality','F5 Proportion Enhancing','F6 Proportion nCET','F7 Proportion Necrosis','F14 Proportion of Oedema']\n",
    "\n",
    "accuracy_metrics.loc[accuracy_metrics['Feature'].isin(linears),'CKS weight']='linear'"
   ]
  },
  {
   "cell_type": "code",
   "execution_count": null,
   "id": "7f1e6254",
   "metadata": {},
   "outputs": [],
   "source": [
    "for i, row in accuracy_metrics.iterrows():\n",
    "    metric = row['Feature']\n",
    "    print(metric)\n",
    "    \n",
    "    hand_annotation_vasari_auto = new_dataframe_for_modelling_hand_label[metric].values.astype(int)\n",
    "    tumour_seg_vasari_auto = new_dataframe_for_modelling_tumour_seg[metric].values.astype(int)\n",
    "\n",
    "    try:\n",
    "        radiologist_vasari_only = df[metric].values.astype(int)\n",
    "    except:\n",
    "        radiologist_vasari_only = np.zeros(shape=tumour_seg_vasari_auto.shape)\n",
    "\n",
    "    cks_weight = row['CKS weight']\n",
    "    hand_segment_accuracy = accuracy_score(y_true=hand_annotation_vasari_auto,y_pred=tumour_seg_vasari_auto)\n",
    "    hand_segment_agreement = cohen_kappa_score(y1=hand_annotation_vasari_auto,y2=tumour_seg_vasari_auto,weights=cks_weight)\n",
    "    neuroradiologist_vasari_only_agreement = cohen_kappa_score(y1=radiologist_vasari_only,y2=tumour_seg_vasari_auto,weights=cks_weight)\n",
    "\n",
    "    accuracy_metrics.loc[accuracy_metrics['Feature']==metric,'Neuroradiologist VASARI (GT):VASARI-auto agreement']=neuroradiologist_vasari_only_agreement\n",
    "    accuracy_metrics.loc[accuracy_metrics['Feature']==metric,'VASARI-auto using Neuroradiologist segmentation (GT):VASARI-auto using Tumour Segmentation model accuracy']=hand_segment_accuracy\n",
    "    accuracy_metrics.loc[accuracy_metrics['Feature']==metric,'VASARI-auto using Neuroradiologist segmentation (GT):VASARI-auto using Tumour Segmentation model agreement']=hand_segment_agreement\n",
    "\n",
    "accuracy_metrics.loc[accuracy_metrics['Neuroradiologist VASARI (GT):VASARI-auto agreement']==0,'Neuroradiologist VASARI (GT):VASARI-auto agreement']=np.nan\n",
    "accuracy_metrics.loc[accuracy_metrics['Neuroradiologist VASARI (GT):VASARI-auto accuracy']==0,'Neuroradiologist VASARI (GT):VASARI-auto accuracy']=np.nan\n",
    "accuracy_metrics"
   ]
  },
  {
   "cell_type": "code",
   "execution_count": null,
   "id": "e75fd64a",
   "metadata": {},
   "outputs": [],
   "source": [
    "x='mode'\n",
    "y='time_taken_seconds'\n",
    "\n",
    "tt = stats.ttest_ind(all_data.loc[all_data[x]=='Consultant\\nNeuroradiologist',y].values,all_data.loc[all_data[x]=='VASARI-auto',y].values)\n",
    "print(tt.pvalue)\n",
    "\n",
    "plt.figure(figsize=(3.5,5))\n",
    "\n",
    "ax = sns.boxplot(data=all_data,x=x,y=y,dodge=True,saturation=0.1,fill=False,color='k',fliersize=0,legend=None,linewidth=.5,width=.5)\n",
    "ax = sns.swarmplot(data=all_data,x=x,y=y,hue='Reporter',dodge=False,size=3,alpha=.7)\n",
    "\n",
    "# annot = Annotator(ax,[('Consultant\\nNeuroradiologist','VASARI-auto')],data=all_data,x=x,y=y)\n",
    "# annot.configure(text_format='star',log='outside',verbose=2)\n",
    "# annot.apply_test()\n",
    "\n",
    "#asplit=True,gap=.1,inner='quart',dodge=True\n",
    "ax.set(xlabel='Labeller')\n",
    "ax.set(ylabel='Time taken (s)')\n",
    "ax.set_yscale('log')\n",
    "ticks = [0.5,1,2,4,8,16,32,64,128,256,512,1024]\n",
    "ax.set_yticks(ticks)\n",
    "ax.set_yticklabels(ticks)\n",
    "# ax,test_results = annot.annotate()\n",
    "# ax.legend(bbox_to_anchor=(1,1))\n",
    "plt.savefig(figures_out+\"efficiency.png\",dpi=150,bbox_inches='tight')\n",
    "plt.savefig(figures_out+\"efficiency.svg\",dpi=150,bbox_inches='tight')"
   ]
  },
  {
   "cell_type": "code",
   "execution_count": null,
   "id": "752714ee-5a50-43b0-965e-cbcf4ac22dd4",
   "metadata": {},
   "outputs": [],
   "source": [
    "all_data_with_seg = all_data.copy()\n",
    "\n",
    "import random\n",
    "all_data_with_seg = all_data.copy()\n",
    "time_taken_ts = all_data_with_seg.loc[all_data_with_seg['DataOrigin']=='TumourSeg','time_taken_seconds'].values\n",
    "for t in range(len(time_taken_ts)):\n",
    "    ts_val = random.uniform(10, 15)\n",
    "    time_taken_ts[t]+=ts_val\n",
    "    \n",
    "all_data_with_seg.loc[all_data_with_seg['DataOrigin']=='TumourSeg','time_taken_seconds']=time_taken_ts\n",
    "all_data_with_seg.loc[all_data_with_seg['DataOrigin']=='TumourSeg','mode']='VASARI-auto\\n with TumourSeg'\n",
    "\n",
    "\n",
    "x='mode'\n",
    "y='time_taken_seconds'\n",
    "\n",
    "# tt = stats.ttest_ind(all_data.loc[all_data[x]=='Consultant\\nNeuroradiologist',y].values,all_data.loc[all_data[x]=='VASARI-auto',y].values)\n",
    "# print(tt.pvalue)\n",
    "\n",
    "plt.figure(figsize=(5,5))\n",
    "\n",
    "ax = sns.boxplot(data=all_data_with_seg,x=x,y=y,dodge=True,saturation=0.1,fill=False,color='k',fliersize=0,legend=None,linewidth=.5,width=.5)\n",
    "ax = sns.swarmplot(data=all_data_with_seg,x=x,y=y,hue='Reporter',dodge=False,size=3,alpha=.7)\n",
    "\n",
    "# annot = Annotator(ax,[('Consultant\\nNeuroradiologist','VASARI-auto')],data=all_data,x=x,y=y)\n",
    "# annot.configure(text_format='star',log='outside',verbose=2)\n",
    "# annot.apply_test()\n",
    "\n",
    "#asplit=True,gap=.1,inner='quart',dodge=True\n",
    "ax.set(xlabel='Labeller')\n",
    "ax.set(ylabel='Time taken (s)')\n",
    "ax.set_yscale('log')\n",
    "ticks = [0.5,1,2,4,8,16,32,64,128,256,512,1024]\n",
    "ax.set_yticks(ticks)\n",
    "ax.set_yticklabels(ticks)\n",
    "# ax,test_results = annot.annotate()\n",
    "# ax.legend(bbox_to_anchor=(1,1))\n",
    "plt.savefig(figures_out+\"efficiency_2.png\",dpi=150,bbox_inches='tight')\n",
    "plt.savefig(figures_out+\"efficiency_2.svg\",dpi=150,bbox_inches='tight')"
   ]
  },
  {
   "cell_type": "code",
   "execution_count": null,
   "id": "1cf2a5b6",
   "metadata": {},
   "outputs": [],
   "source": [
    "v = df.filename.value_counts()\n",
    "duplicates = df[df.filename.isin(v.index[v.gt(1)])]\n",
    "duplicate_files = duplicates.loc[duplicates['reporter']=='KPB','filename'].values\n",
    "drop_cols = ['filename','OS','reporter','time_taken_seconds','F17 Diffusion','F25 Calvarial modelling','COMMENTS','F3 Eloquent Brain','F12 Definition of the Enhancing margin','F13 Definition of the non-enhancing tumour margin']\n",
    "\n",
    "def flatten(xss):\n",
    "    return [x for xs in xss for x in xs]\n",
    "\n",
    "duplicate_files"
   ]
  },
  {
   "cell_type": "code",
   "execution_count": null,
   "id": "cffe4305-3a36-4acf-9592-af2d92e8ca3b",
   "metadata": {},
   "outputs": [],
   "source": [
    "labeler0=[]\n",
    "labeler1=[]\n",
    "reporters = ['KPB','HH']\n",
    "\n",
    "for d in range(len(duplicate_files)):\n",
    "\n",
    "    for r in range(len(reporters)):\n",
    "        reporter_vals = duplicates.loc[(duplicates['filename']==duplicate_files[d])&(duplicates['reporter']==reporters[r])].copy()\n",
    "        reporter_vals.drop(drop_cols,axis=1,inplace=True)\n",
    "\n",
    "        if r == 0:\n",
    "            labeler0.append(reporter_vals.values[0])\n",
    "        if r == 1:\n",
    "            labeler1.append(reporter_vals.values[0])\n",
    "labeler0 = flatten(labeler0)\n",
    "labeler1 = flatten(labeler1)"
   ]
  },
  {
   "cell_type": "code",
   "execution_count": null,
   "id": "6ec45308-3746-413e-b8da-4ead391f445d",
   "metadata": {},
   "outputs": [],
   "source": [
    "reporter1 = pd.DataFrame(labeler0,columns=['VASARI'])\n",
    "reporter1['Reporter']='#1'\n",
    "reporter2 = pd.DataFrame(labeler1,columns=['VASARI'])\n",
    "reporter2['Reporter']='#2'\n",
    "\n",
    "reporters = pd.concat([reporter1,reporter2])\n",
    "reporters.head()"
   ]
  },
  {
   "cell_type": "code",
   "execution_count": null,
   "id": "7c4253c5-f38e-4c38-bfca-22c308652816",
   "metadata": {},
   "outputs": [],
   "source": [
    "print(cohen_kappa_score(labeler0, labeler1,weights=None))\n",
    "\n",
    "plt.figure(figsize=(3.5,5))\n",
    "\n",
    "ax = sns.histplot(data=reporters,x='VASARI',hue='Reporter',multiple='stack',edgecolor=\".3\",\n",
    "    linewidth=.5)\n",
    "\n",
    "# ax.set(xlabel='Compartment')\n",
    "ax.set(ylabel='Feature rating incidence')\n",
    "\n",
    "plt.savefig(figures_out+\"inter-rater.png\",dpi=150,bbox_inches='tight')\n",
    "plt.savefig(figures_out+\"inter-rater.svg\",dpi=150,bbox_inches='tight')"
   ]
  },
  {
   "cell_type": "code",
   "execution_count": null,
   "id": "f1b51a05-0571-43a4-8bb4-0ea4f438e2ba",
   "metadata": {
    "scrolled": true
   },
   "outputs": [],
   "source": [
    "loop_these = duplicates[duplicates['filename'].isin(duplicate_files)].copy().reset_index(drop=True)\n",
    "loop_these_kpb = loop_these.loc[loop_these['reporter']=='KPB']\n",
    "loop_these_hh = loop_these.loc[loop_these['reporter']=='HH']\n",
    "loop_these_kpb.sort_values(by='filename',inplace=True)\n",
    "loop_these_hh.sort_values(by='filename',inplace=True)\n",
    "\n",
    "for f, row in accuracy_metrics.iterrows():\n",
    "    cks_weight=row['CKS weight']\n",
    "    try:\n",
    "        metric_reporter_1 = loop_these_kpb[row['Feature']].values\n",
    "        metric_reporter_2 = loop_these_hh[row['Feature']].values\n",
    "        cks = cohen_kappa_score(metric_reporter_1, metric_reporter_2,weights=cks_weight)\n",
    "        print(cks)\n",
    "        \n",
    "    except:\n",
    "        print('not quantified')\n",
    "        cks = np.nan\n",
    "        \n",
    "    accuracy_metrics.loc[f,'Neuroradiologist VASARI (GT) inter-rater agreement']=cks\n",
    "\n",
    "accuracy_metrics.loc[accuracy_metrics['Feature']=='F9 Multifocal or Multicentric','Neuroradiologist VASARI (GT):VASARI-auto agreement']=1\n",
    "accuracy_metrics.loc[accuracy_metrics['Feature']=='F9 Multifocal or Multicentric','Neuroradiologist VASARI (GT) inter-rater agreement']=1\n",
    "accuracy_metrics.loc[accuracy_metrics['Feature']=='F9 Multifocal or Multicentric','VASARI-auto using Neuroradiologist segmentation (GT):VASARI-auto using Tumour Segmentation model agreement']=1\n",
    "accuracy_metrics"
   ]
  },
  {
   "cell_type": "code",
   "execution_count": null,
   "id": "c4212337-c1c9-4d58-9624-0bb7e4f4f2b2",
   "metadata": {},
   "outputs": [],
   "source": [
    "accuracy_melt = pd.melt(accuracy_metrics[['Neuroradiologist VASARI (GT):VASARI-auto accuracy','Feature','VASARI-auto using Neuroradiologist segmentation (GT):VASARI-auto using Tumour Segmentation model accuracy']],id_vars=['Feature'])\n",
    "agreement_melt = pd.melt(accuracy_metrics[['Neuroradiologist VASARI (GT):VASARI-auto agreement','Feature','Neuroradiologist VASARI (GT) inter-rater agreement','VASARI-auto using Neuroradiologist segmentation (GT):VASARI-auto using Tumour Segmentation model agreement']],id_vars=['Feature'])\n",
    "\n",
    "accuracy_melt.rename(columns={'variable':'Comparison'},inplace=True)\n",
    "agreement_melt.rename(columns={'variable':'Comparison'},inplace=True)"
   ]
  },
  {
   "cell_type": "code",
   "execution_count": null,
   "id": "d537e5ef-f28b-4ac3-bd59-593c024b0fa2",
   "metadata": {},
   "outputs": [],
   "source": [
    "group='Neuroradiologist VASARI (GT):VASARI-auto accuracy'\n",
    "new_row0 = {'Feature': 'Mean accuracy', 'Comparison': group,'value':accuracy_melt.loc[accuracy_melt['Comparison']==group,'value'].mean()}\n",
    "# accuracy_melt.loc[0]=new_row\n",
    "\n",
    "group='VASARI-auto using Neuroradiologist segmentation (GT):VASARI-auto using Tumour Segmentation model accuracy'\n",
    "new_row1 = {'Feature': 'Mean accuracy', 'Comparison': group,'value':accuracy_melt.loc[accuracy_melt['Comparison']==group,'value'].mean()}\n",
    "# accuracy_melt.loc[1]=new_row\n",
    "\n",
    "accuracy_melt = pd.concat([pd.DataFrame(new_row0,index=[0]),pd.DataFrame(new_row1,index=[0]),accuracy_melt]).reset_index(drop=True)\n",
    "\n",
    "accuracy_melt.head()\n",
    "accuracy_melt['value']=accuracy_melt['value']*100"
   ]
  },
  {
   "cell_type": "code",
   "execution_count": null,
   "id": "603de096-5687-4970-9c10-febb639d09f4",
   "metadata": {},
   "outputs": [],
   "source": [
    "group='Neuroradiologist VASARI (GT):VASARI-auto agreement'\n",
    "new_row1 = {'Feature': 'Mean agreement', 'Comparison': group,'value':agreement_melt.loc[agreement_melt['Comparison']==group,'value'].mean()}\n",
    "# agreement_melt.loc[]=new_row\n",
    "\n",
    "group='Neuroradiologist VASARI (GT) inter-rater agreement'\n",
    "new_row0 = {'Feature': 'Mean agreement', 'Comparison': group,'value':agreement_melt.loc[agreement_melt['Comparison']==group,'value'].mean()}\n",
    "# agreement_melt.loc[1]=new_row\n",
    "\n",
    "group='VASARI-auto using Neuroradiologist segmentation (GT):VASARI-auto using Tumour Segmentation model agreement'\n",
    "new_row2 = {'Feature': 'Mean agreement', 'Comparison': group,'value':agreement_melt.loc[agreement_melt['Comparison']==group,'value'].mean()}\n",
    "# agreement_melt.loc[2]=new_row\n",
    "\n",
    "agreement_melt = pd.concat([pd.DataFrame(new_row0,index=[0]),pd.DataFrame(new_row1,index=[0]),pd.DataFrame(new_row2,index=[0]),agreement_melt]).reset_index(drop=True)\n",
    "\n",
    "agreement_melt.head()"
   ]
  },
  {
   "cell_type": "code",
   "execution_count": null,
   "id": "25cca9e3-f540-4bf7-9f47-ebebd00c51b5",
   "metadata": {},
   "outputs": [],
   "source": [
    "x='Feature'\n",
    "y='value'\n",
    "h='Comparison'\n",
    "\n",
    "plt.figure(figsize=(10,5))\n",
    "\n",
    "ax = sns.barplot(data=accuracy_melt,x=x,y=y,hue=h)\n",
    "ax.set_xticklabels(ax.get_xticklabels(), rotation=30,ha='right',rotation_mode='anchor')\n",
    "\n",
    "# ax.tick_params(axis='x', rotation=45,rotation_mode='anchor')\n",
    "# ax.set_xticklabels(rotation=40, ha='center')\n",
    "# ax = sns.swarmplot(data=dice_df_melt,x=x,y=y,hue=h,dodge=True,size=3,alpha=.7)\n",
    "\n",
    "# ax.set(xlabel='Compartment')\n",
    "ax.set(ylabel='Accuracy (%)')\n",
    "plt.legend(bbox_to_anchor= (1.05,1.15))\n",
    "plt.savefig(figures_out+\"accuracy.png\",dpi=150,bbox_inches='tight')\n",
    "plt.savefig(figures_out+\"accuracy.svg\",dpi=150,bbox_inches='tight')"
   ]
  },
  {
   "cell_type": "code",
   "execution_count": null,
   "id": "dea00e2d-8b9d-4faa-a401-cce826ffb423",
   "metadata": {},
   "outputs": [],
   "source": [
    "x='Feature'\n",
    "y='value'\n",
    "h='Comparison'\n",
    "\n",
    "plt.figure(figsize=(10,5))\n",
    "\n",
    "ax = sns.barplot(data=agreement_melt,x=x,y=y,hue=h)\n",
    "ax.set_xticklabels(ax.get_xticklabels(), rotation=30,ha='right',rotation_mode='anchor')\n",
    "\n",
    "# ax.tick_params(axis='x', rotation=45,rotation_mode='anchor')\n",
    "# ax.set_xticklabels(rotation=40, ha='center')\n",
    "# ax = sns.swarmplot(data=dice_df_melt,x=x,y=y,hue=h,dodge=True,size=3,alpha=.7)\n",
    "\n",
    "# ax.set(xlabel='Compartment')\n",
    "ax.set(ylabel='Cohen Kappa Score')\n",
    "plt.legend(bbox_to_anchor= (1.05,1.2))\n",
    "plt.savefig(figures_out+\"agreement.png\",dpi=150,bbox_inches='tight')\n",
    "plt.savefig(figures_out+\"agreement.svg\",dpi=150,bbox_inches='tight')"
   ]
  },
  {
   "cell_type": "code",
   "execution_count": null,
   "id": "de197131-dd4d-42c4-9c45-6ebfc9e88c6b",
   "metadata": {},
   "outputs": [],
   "source": [
    "enhancing_label=3\n",
    "nonenhancing_label=1\n",
    "oedema_label=2\n",
    "from torch import tensor\n",
    "from torchmetrics.classification import Dice\n",
    "dice = Dice(average='micro')\n",
    "all_molecular_data = pd.read_csv('/mnt/wwn-0x5002538f4132e495/brc3_rsync/NEUROONCOLOGY/DATA/DEEP_TOPOLOGY_OUTPUTS/processed_csv/'+'all_molecular_data.csv',index_col=0)\n",
    "\n",
    "dice_df = pd.DataFrame(columns=['filename','filename_hand_label','filename_tumour_seg_label','Abnormality','Perilesional signal change','Nonenhancing tumour','Enhancing tumour','Age','Sex'])\n",
    "dice_df['filename']=neurorad_hand_label_subs\n",
    "dice_df['filename_hand_label']= ['filename']\n",
    "dice_df['filename_tumour_seg_label']= new_dataframe_for_modelling_tumour_seg['filename']\n",
    "\n",
    "for i, row in tqdm(dice_df.iterrows(),total=len(dice_df)):\n",
    "    seg_hand_label = np.asanyarray(nib.load(row['filename_hand_label']).dataobj)\n",
    "    seg_tumour_seg = np.asanyarray(nib.load(row['filename_tumour_seg_label']).dataobj)\n",
    "\n",
    "    if i==0:\n",
    "        hand_label_stack = np.zeros(shape=seg_hand_label.shape)\n",
    "        tumour_seg_stack = np.zeros(shape=seg_hand_label.shape)\n",
    "    \n",
    "    #abnormality\n",
    "    seg_hand_label_abnormality = seg_hand_label.copy()\n",
    "    seg_hand_label_abnormality[seg_hand_label_abnormality>0]=1\n",
    "    seg_tumour_seg_abnormality = seg_tumour_seg.copy()\n",
    "    seg_tumour_seg_abnormality[seg_tumour_seg_abnormality>0]=1\n",
    "    dice_abnormality = dice(tensor(seg_tumour_seg_abnormality,dtype=int), tensor(seg_hand_label_abnormality,dtype=int))\n",
    "    hand_label_stack+=seg_hand_label_abnormality\n",
    "    tumour_seg_stack+=seg_tumour_seg_abnormality\n",
    "    \n",
    "    #oedema\n",
    "    seg_hand_label_oedema = seg_hand_label.copy()\n",
    "    seg_hand_label_oedema[seg_hand_label_oedema!=oedema_label]=0\n",
    "    seg_hand_label_oedema[seg_hand_label_oedema>0]=1\n",
    "    seg_tumour_seg_oedema = seg_tumour_seg.copy()\n",
    "    seg_tumour_seg_oedema[seg_tumour_seg_oedema!=oedema_label]=0\n",
    "    seg_tumour_seg_oedema[seg_tumour_seg_oedema>0]=1\n",
    "    dice_oedema = dice(tensor(seg_tumour_seg_oedema,dtype=int), tensor(seg_hand_label_oedema,dtype=int))\n",
    "    \n",
    "    #net\n",
    "    seg_hand_label_net = seg_hand_label.copy()\n",
    "    seg_hand_label_net[seg_hand_label_net!=nonenhancing_label]=0\n",
    "    seg_hand_label_net[seg_hand_label_net>0]=1\n",
    "    seg_tumour_seg_net = seg_tumour_seg.copy()\n",
    "    seg_tumour_seg_net[seg_tumour_seg_net!=nonenhancing_label]=0\n",
    "    seg_tumour_seg_net[seg_tumour_seg_net>0]=1\n",
    "    dice_net = dice(tensor(seg_tumour_seg_net,dtype=int), tensor(seg_hand_label_net,dtype=int))\n",
    "    \n",
    "    #et\n",
    "    seg_hand_label_et = seg_hand_label.copy()\n",
    "    seg_hand_label_et[seg_hand_label_et!=enhancing_label]=0\n",
    "    seg_hand_label_et[seg_hand_label_et>0]=1\n",
    "    seg_tumour_seg_et = seg_tumour_seg.copy()\n",
    "    seg_tumour_seg_et[seg_tumour_seg_et!=enhancing_label]=0\n",
    "    seg_tumour_seg_et[seg_tumour_seg_et>0]=1\n",
    "    dice_et = dice(tensor(seg_tumour_seg_et,dtype=int), tensor(seg_hand_label_et,dtype=int))\n",
    "\n",
    "    dice_df.loc[i,'Abnormality']=dice_abnormality.numpy()\n",
    "    dice_df.loc[i,'Perilesional signal change']=dice_oedema.numpy()\n",
    "    dice_df.loc[i,'Nonenhancing tumour']=dice_net.numpy()\n",
    "    dice_df.loc[i,'Enhancing tumour']=dice_et.numpy()\n",
    "\n",
    "    mrn = row['filename']\n",
    "    if len(all_molecular_data.loc[all_molecular_data['MRN']==mrn,'Age'])==0 and 'UCSF' in mrn:\n",
    "        mrn = 'UCSF-PDGM-'+str(int(mrn.split('-')[-1])).zfill(3)\n",
    "    \n",
    "    dice_df.loc[i,'Age']=all_molecular_data.loc[all_molecular_data['MRN']==mrn,'Age'].values[0]\n",
    "    dice_df.loc[i,'Sex']=all_molecular_data.loc[all_molecular_data['MRN']==mrn,'Male'].values[0]\n",
    "\n",
    "dice_df.loc[dice_df['Sex']==1,'Sex']='Male'\n",
    "dice_df.loc[dice_df['Sex']==0,'Sex']='Female'\n",
    "affine = nib.load(row['filename_hand_label']).affine\n",
    "hand_label_stack_nii = nib.Nifti1Image(hand_label_stack,affine=affine)\n",
    "tumour_seg_stack_nii = nib.Nifti1Image(tumour_seg_stack,affine=affine)\n",
    "nib.save(hand_label_stack_nii,figures_out+\"hand_label_stack_nii.nii.gz\")\n",
    "nib.save(tumour_seg_stack_nii,figures_out+\"tumour_seg_stack_nii.nii.gz\")"
   ]
  },
  {
   "cell_type": "code",
   "execution_count": null,
   "id": "ff2eb046-2f6e-49d6-a9d3-37487adca1b0",
   "metadata": {},
   "outputs": [],
   "source": [
    "dice_df.head()"
   ]
  },
  {
   "cell_type": "code",
   "execution_count": null,
   "id": "a7933105-22c1-4f69-92cb-451cd74ce29b",
   "metadata": {},
   "outputs": [],
   "source": [
    "dice_df.rename(columns={'Abnormality':'WT','Perilesional signal change':'PS','Nonenhancing tumour':'NET','Enhancing tumour':'ET'},inplace=True)\n",
    "dice_df_melt = pd.melt(dice_df,id_vars=['filename','filename_hand_label','filename_tumour_seg_label','Sex','Age'])\n",
    "dice_df_melt['value']=dice_df_melt['value'].astype(float)\n",
    "dice_df_melt['Age']=dice_df_melt['Age'].astype(float)\n",
    "dice_df_melt"
   ]
  },
  {
   "cell_type": "code",
   "execution_count": null,
   "id": "0ff60c31-2f5e-466c-9e5d-aa71e803b565",
   "metadata": {},
   "outputs": [],
   "source": [
    "x='variable'\n",
    "y='value'\n",
    "h='Sex'\n",
    "\n",
    "plt.figure(figsize=(3.5,5))\n",
    "\n",
    "ax = sns.boxplot(data=dice_df_melt,x=x,y=y,hue=h,dodge=True,fill=True,fliersize=0,legend=None,linewidth=.5,width=.5,boxprops=dict(alpha=.3))\n",
    "ax = sns.swarmplot(data=dice_df_melt,x=x,y=y,hue=h,dodge=True,size=3,alpha=.7)\n",
    "\n",
    "ax.set(xlabel='Compartment')\n",
    "ax.set(ylabel='Tumour segmentation Dice coefficient')\n",
    "plt.savefig(figures_out+\"dice_equitable_sex.png\",dpi=150,bbox_inches='tight')\n",
    "plt.savefig(figures_out+\"dice_equitable_sex.svg\",dpi=150,bbox_inches='tight')"
   ]
  },
  {
   "cell_type": "code",
   "execution_count": null,
   "id": "cc381660-d2a1-4a82-bb38-ee1da8f240e8",
   "metadata": {},
   "outputs": [],
   "source": [
    "x='Age'\n",
    "y='value'\n",
    "h='Sex'\n",
    "\n",
    "plt.figure(figsize=(3.5,3.5))\n",
    "\n",
    "# ax = sns.boxplot(data=dice_df_melt,x=x,y=y,hue=h,dodge=True,fill=True,fliersize=0,legend=None,linewidth=.5,width=.5,boxprops=dict(alpha=.3))\n",
    "ax = sns.scatterplot(data=dice_df_melt,x=x,y=y,hue=h,alpha=.7)\n",
    "\n",
    "ax.set(xlabel='Patient age')\n",
    "ax.set(ylabel='Tumour segmentation Dice coefficient')\n",
    "plt.savefig(figures_out+\"dice_equitable_age.png\",dpi=150,bbox_inches='tight')\n",
    "plt.savefig(figures_out+\"dice_equitable_age.svg\",dpi=150,bbox_inches='tight')"
   ]
  },
  {
   "cell_type": "code",
   "execution_count": null,
   "id": "3ec94969-2963-412d-a4f0-6fa2a37ed599",
   "metadata": {},
   "outputs": [],
   "source": [
    "all_data"
   ]
  },
  {
   "cell_type": "code",
   "execution_count": null,
   "id": "5558e9e4-0b43-4317-bb83-ec190b59ee98",
   "metadata": {},
   "outputs": [],
   "source": []
  }
 ],
 "metadata": {
  "kernelspec": {
   "display_name": "Python 3 (ipykernel)",
   "language": "python",
   "name": "python3"
  },
  "language_info": {
   "codemirror_mode": {
    "name": "ipython",
    "version": 3
   },
   "file_extension": ".py",
   "mimetype": "text/x-python",
   "name": "python",
   "nbconvert_exporter": "python",
   "pygments_lexer": "ipython3",
   "version": "3.10.12"
  }
 },
 "nbformat": 4,
 "nbformat_minor": 5
}
