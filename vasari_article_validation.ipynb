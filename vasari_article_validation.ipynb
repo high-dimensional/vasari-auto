{
 "cells": [
  {
   "cell_type": "markdown",
   "id": "d905db48",
   "metadata": {},
   "source": [
    "# This is the codebase for validation of VASARI-auto\n",
    "\n",
    "###\tvasari-auto.py | a pipeline for automated VASARI characterisation of glioma.\n",
    "\n",
    "###\tCopyright 2024 James Ruffle, High-Dimensional Neurology, UCL Queen Square Institute of Neurology.\n",
    "\n",
    "###\tThis program is licensed under the APACHE 2.0 license.\n",
    "\n",
    "###\tThis program is distributed in the hope that it will be useful, but WITHOUT ANY WARRANTY; without even the implied warranty of MERCHANTABILITY or FITNESS FOR A PARTICULAR PURPOSE.  \n",
    "\n",
    "###\tSee the License for more details.\n",
    "\n",
    "###\tThis code is part of the repository https://github.com/james-ruffle/vasari-auto\n",
    "\n",
    "###\tCorrespondence to Dr James K Ruffle by email: j.ruffle@ucl.ac.uk"
   ]
  },
  {
   "cell_type": "code",
   "execution_count": 1,
   "id": "a4130df2",
   "metadata": {},
   "outputs": [
    {
     "name": "stdout",
     "output_type": "stream",
     "text": [
      "/usr/bin/python3\n",
      "3.10.12 (main, Nov 20 2023, 15:14:05) [GCC 11.4.0]\n",
      "sys.version_info(major=3, minor=10, micro=12, releaselevel='final', serial=0)\n"
     ]
    }
   ],
   "source": [
    "import sys\n",
    "print(sys.executable)\n",
    "print(sys.version)\n",
    "print(sys.version_info)"
   ]
  },
  {
   "cell_type": "code",
   "execution_count": 2,
   "id": "6484321f",
   "metadata": {},
   "outputs": [],
   "source": [
    "#Import packages\n",
    "import glob\n",
    "import numpy as np\n",
    "import os\n",
    "import pandas as pd\n",
    "import shutil\n",
    "import errno\n",
    "import subprocess\n",
    "from datetime import datetime\n",
    "from tqdm import tqdm\n",
    "import argparse\n",
    "import nibabel as nib\n",
    "from scipy.ndimage import label, generate_binary_structure\n",
    "import matplotlib.pyplot as plt\n",
    "from scipy import ndimage, misc\n",
    "import seaborn as sns\n",
    "from sklearn.metrics import *\n",
    "import time\n",
    "from skimage.morphology import skeletonize\n",
    "import matplotlib.ticker as mticker\n",
    "from scipy import stats\n",
    "pd.set_option('display.max_rows', 500)\n",
    "pd.set_option('display.max_columns', 500)\n",
    "from sklearn.metrics import confusion_matrix, ConfusionMatrixDisplay\n",
    "import scipy\n",
    "from sklearn.metrics import cohen_kappa_score"
   ]
  },
  {
   "cell_type": "code",
   "execution_count": 3,
   "id": "8a4db2e2",
   "metadata": {},
   "outputs": [],
   "source": [
    "desktop = False\n",
    "mac = False\n",
    " \n",
    "if desktop:\n",
    "    user = 'jamesruffle'\n",
    "if not desktop:\n",
    "    user = 'jruffle'\n",
    "\n",
    "if mac:\n",
    "    user = '/Users/'+str(user)+'/Library/CloudStorage/OneDrive-UniversityCollegeLondon/'\n",
    "if not mac:\n",
    "    user = '/home/'+str(user)+'/OneDrive/'"
   ]
  },
  {
   "cell_type": "code",
   "execution_count": 4,
   "id": "3932f379",
   "metadata": {},
   "outputs": [
    {
     "name": "stdout",
     "output_type": "stream",
     "text": [
      "Number of lesions: 100\n",
      "\n",
      "#unique lesions: 87\n",
      "\n",
      "#number double reported for inter-rater variability: 13\n"
     ]
    }
   ],
   "source": [
    "#where annotated nifti segmentations will be pulled from\n",
    "seg_path = str(user)+'PhD/VASARI/data/RADIOLOGISTS/IMAGES/'\n",
    "\n",
    "#atlas paths\n",
    "atlases = str(user)+'PhD/VASARI/TUTORIAL/atlas_masks/'\n",
    "\n",
    "#consultant neuroradiologist validation\n",
    "df = pd.read_excel(str(user)+'PhD/VASARI/data/labelled_data/merged_radiologist_labelled_data.xlsx',index_col=0)\n",
    "for i, row in df.iterrows():\n",
    "    if 'UCSF' in df.loc[i,'filename']:\n",
    "        padded_num = row['filename'].split('-')[-1].zfill(4)\n",
    "        df.loc[i,'filename'] = 'UCSF-PDGM-'+str(padded_num)\n",
    "\n",
    "#segmentations to evaluate\n",
    "model_prediction = str(user)+'PhD/forFAITH/model_prediction/'\n",
    "neurorad_hand_label = str(user)+'PhD/forFAITH/neurorad_hand_label/'\n",
    "\n",
    "neurorad_hand_label_subs = df['filename'].values\n",
    "\n",
    "figures_out = str(user)+'PhD/VASARI/Results/figs_output/'\n",
    "\n",
    "print(\"Number of lesions: \"+str(len(neurorad_hand_label_subs)))\n",
    "print('')\n",
    "print('#unique lesions: '+str(len(df['filename'].unique())))\n",
    "print('')\n",
    "print('#number double reported for inter-rater variability: '+str(len(neurorad_hand_label_subs)-len(df['filename'].unique())))"
   ]
  },
  {
   "cell_type": "code",
   "execution_count": 5,
   "id": "b60cc2b7",
   "metadata": {},
   "outputs": [
    {
     "name": "stderr",
     "output_type": "stream",
     "text": [
      "100%|███████████████████████████████████████| 100/100 [00:00<00:00, 7634.20it/s]\n"
     ]
    }
   ],
   "source": [
    "time_str = '8m 43s'\n",
    "time_str\n",
    "\n",
    "def time_string_to_seconds(time_str):\n",
    "    minutes, seconds = int(time_str.split('m')[0]), int(time_str.split('m')[-1].split('s')[0])\n",
    "    total_seconds = minutes * 60 + seconds\n",
    "    return total_seconds\n",
    "\n",
    "for i, row in tqdm(df.iterrows(),total=len(df)):\n",
    "    df.loc[i,'time_taken_seconds']=time_string_to_seconds(row['time_taken_seconds'])"
   ]
  },
  {
   "cell_type": "code",
   "execution_count": 6,
   "id": "8fc6aa4c",
   "metadata": {},
   "outputs": [],
   "source": [
    "col_names = ['filename', 'reporter', 'time_taken_seconds',\n",
    "           'F1 Tumour Location', 'F2 Side of Tumour Epicenter',\n",
    "           'F3 Eloquent Brain', 'F4 Enhancement Quality',\n",
    "           'F5 Proportion Enhancing', 'F6 Proportion nCET',\n",
    "           'F7 Proportion Necrosis', 'F8 Cyst(s)', 'F9 Multifocal or Multicentric',\n",
    "           'F10 T1/FLAIR Ratio', 'F11 Thickness of enhancing margin',\n",
    "           'F12 Definition of the Enhancing margin',\n",
    "           'F13 Definition of the non-enhancing tumour margin',\n",
    "           'F14 Proportion of Oedema', 'F16 haemorrhage', 'F17 Diffusion',\n",
    "           'F18 Pial invasion', 'F19 Ependymal Invasion',\n",
    "           'F20 Cortical involvement', 'F21 Deep WM invasion', \n",
    "                 'F22 nCET Crosses Midline', 'F23 CET Crosses midline',\n",
    "                 'F24 satellites',\n",
    "           'F25 Calvarial modelling', 'COMMENTS']\n",
    "\n",
    "new_dataframe_for_modelling_hand_label = pd.DataFrame(columns=col_names)\n",
    "new_dataframe_for_modelling_hand_label['filename']=neurorad_hand_label+neurorad_hand_label_subs+'.nii.gz'\n",
    "\n",
    "new_dataframe_for_modelling_tumour_seg = pd.DataFrame(columns=col_names)\n",
    "new_dataframe_for_modelling_tumour_seg['filename']=model_prediction+neurorad_hand_label_subs+'.nii.gz'"
   ]
  },
  {
   "cell_type": "code",
   "execution_count": 7,
   "id": "6e747baf-5059-4424-951c-20ecba23a865",
   "metadata": {},
   "outputs": [],
   "source": [
    "from vasari_auto import get_vasari_features"
   ]
  },
  {
   "cell_type": "code",
   "execution_count": 8,
   "id": "8f1fc4b3-9efb-47cb-934b-0ff2a2890508",
   "metadata": {},
   "outputs": [
    {
     "name": "stdout",
     "output_type": "stream",
     "text": [
      "Please note that this software is in beta and utilises only irrevocably anonymised lesion masks.\n",
      "VASARI features that require source data shall not be derived and return NaN in this software version\n",
      "\n",
      "Working on: /home/jruffle/OneDrive/PhD/forFAITH/neurorad_hand_label/UCSF-PDGM-0005.nii.gz\n",
      "\n",
      "Running voxel quantification per tissue class\n",
      "Deriving number of components\n",
      "Determining laterality\n",
      "Determining proportions\n",
      "               ROI      prop\n",
      "0         Thalamus  0.383810\n",
      "1           Insula  0.102493\n",
      "2    Parietal Lobe  0.042167\n",
      "3    Temporal Lobe  0.000462\n",
      "4  Corpus callosum  0.000154\n",
      "5        Brainstem  0.000000\n",
      "6     Frontal Lobe  0.000000\n",
      "7   Occipital Lobe  0.000000\n",
      "Determining ependymal involvement\n",
      "Determining white matter involvemenet\n",
      "Determining cortical involvement\n",
      "Cortically lesioned voxels 411\n",
      "Determining midline involvement\n",
      "Deriving enhancing satellites\n",
      "Deriving cysts\n",
      "Cyst count 6\n",
      "Deriving enhancement thickness\n",
      "Enhancing thickness: 38.67889908221395\n",
      "Converting raw values to VASARI dictionary features\n",
      "Number of lesion components: 4\n",
      "prop oedema 93.77534711817002\n",
      "Time taken: 2.8763294219970703 seconds\n",
      "\n",
      "Complete! Generating output...\n"
     ]
    },
    {
     "data": {
      "text/html": [
       "<div>\n",
       "<style scoped>\n",
       "    .dataframe tbody tr th:only-of-type {\n",
       "        vertical-align: middle;\n",
       "    }\n",
       "\n",
       "    .dataframe tbody tr th {\n",
       "        vertical-align: top;\n",
       "    }\n",
       "\n",
       "    .dataframe thead th {\n",
       "        text-align: right;\n",
       "    }\n",
       "</style>\n",
       "<table border=\"1\" class=\"dataframe\">\n",
       "  <thead>\n",
       "    <tr style=\"text-align: right;\">\n",
       "      <th></th>\n",
       "      <th>filename</th>\n",
       "      <th>reporter</th>\n",
       "      <th>time_taken_seconds</th>\n",
       "      <th>F1 Tumour Location</th>\n",
       "      <th>F2 Side of Tumour Epicenter</th>\n",
       "      <th>F3 Eloquent Brain</th>\n",
       "      <th>F4 Enhancement Quality</th>\n",
       "      <th>F5 Proportion Enhancing</th>\n",
       "      <th>F6 Proportion nCET</th>\n",
       "      <th>F7 Proportion Necrosis</th>\n",
       "      <th>F8 Cyst(s)</th>\n",
       "      <th>F9 Multifocal or Multicentric</th>\n",
       "      <th>F10 T1/FLAIR Ratio</th>\n",
       "      <th>F11 Thickness of enhancing margin</th>\n",
       "      <th>F12 Definition of the Enhancing margin</th>\n",
       "      <th>F13 Definition of the non-enhancing tumour margin</th>\n",
       "      <th>F14 Proportion of Oedema</th>\n",
       "      <th>F16 haemorrhage</th>\n",
       "      <th>F17 Diffusion</th>\n",
       "      <th>F18 Pial invasion</th>\n",
       "      <th>F19 Ependymal Invasion</th>\n",
       "      <th>F20 Cortical involvement</th>\n",
       "      <th>F21 Deep WM invasion</th>\n",
       "      <th>F22 nCET Crosses Midline</th>\n",
       "      <th>F23 CET Crosses midline</th>\n",
       "      <th>F24 satellites</th>\n",
       "      <th>F25 Calvarial modelling</th>\n",
       "      <th>COMMENTS</th>\n",
       "    </tr>\n",
       "  </thead>\n",
       "  <tbody>\n",
       "    <tr>\n",
       "      <th>0</th>\n",
       "      <td>/home/jruffle/OneDrive/PhD/forFAITH/neurorad_h...</td>\n",
       "      <td>VASARI-auto</td>\n",
       "      <td>2.876329</td>\n",
       "      <td>8</td>\n",
       "      <td>1</td>\n",
       "      <td>NaN</td>\n",
       "      <td>2</td>\n",
       "      <td>4</td>\n",
       "      <td>4</td>\n",
       "      <td>4</td>\n",
       "      <td>1</td>\n",
       "      <td>1</td>\n",
       "      <td>NaN</td>\n",
       "      <td>4</td>\n",
       "      <td>NaN</td>\n",
       "      <td>NaN</td>\n",
       "      <td>5</td>\n",
       "      <td>NaN</td>\n",
       "      <td>NaN</td>\n",
       "      <td>NaN</td>\n",
       "      <td>1</td>\n",
       "      <td>1</td>\n",
       "      <td>2</td>\n",
       "      <td>2</td>\n",
       "      <td>2</td>\n",
       "      <td>1</td>\n",
       "      <td>NaN</td>\n",
       "      <td>Please note that this software is in beta and ...</td>\n",
       "    </tr>\n",
       "  </tbody>\n",
       "</table>\n",
       "</div>"
      ],
      "text/plain": [
       "                                            filename     reporter  \\\n",
       "0  /home/jruffle/OneDrive/PhD/forFAITH/neurorad_h...  VASARI-auto   \n",
       "\n",
       "   time_taken_seconds  F1 Tumour Location  F2 Side of Tumour Epicenter  \\\n",
       "0            2.876329                   8                            1   \n",
       "\n",
       "   F3 Eloquent Brain  F4 Enhancement Quality  F5 Proportion Enhancing  \\\n",
       "0                NaN                       2                        4   \n",
       "\n",
       "   F6 Proportion nCET  F7 Proportion Necrosis  F8 Cyst(s)  \\\n",
       "0                   4                       4           1   \n",
       "\n",
       "   F9 Multifocal or Multicentric  F10 T1/FLAIR Ratio  \\\n",
       "0                              1                 NaN   \n",
       "\n",
       "   F11 Thickness of enhancing margin  F12 Definition of the Enhancing margin  \\\n",
       "0                                  4                                     NaN   \n",
       "\n",
       "   F13 Definition of the non-enhancing tumour margin  \\\n",
       "0                                                NaN   \n",
       "\n",
       "   F14 Proportion of Oedema  F16 haemorrhage  F17 Diffusion  \\\n",
       "0                         5              NaN            NaN   \n",
       "\n",
       "   F18 Pial invasion  F19 Ependymal Invasion  F20 Cortical involvement  \\\n",
       "0                NaN                       1                         1   \n",
       "\n",
       "   F21 Deep WM invasion  F22 nCET Crosses Midline  F23 CET Crosses midline  \\\n",
       "0                     2                         2                        2   \n",
       "\n",
       "   F24 satellites  F25 Calvarial modelling  \\\n",
       "0               1                      NaN   \n",
       "\n",
       "                                            COMMENTS  \n",
       "0  Please note that this software is in beta and ...  "
      ]
     },
     "execution_count": 8,
     "metadata": {},
     "output_type": "execute_result"
    }
   ],
   "source": [
    "get_vasari_features(file=neurorad_hand_label+'UCSF-PDGM-0005.nii.gz',verbose=True)"
   ]
  },
  {
   "cell_type": "code",
   "execution_count": null,
   "id": "e056279c",
   "metadata": {},
   "outputs": [
    {
     "name": "stderr",
     "output_type": "stream",
     "text": [
      " 39%|████████████████▍                         | 39/100 [01:45<02:44,  2.69s/it]"
     ]
    }
   ],
   "source": [
    "for i, row in tqdm(new_dataframe_for_modelling_hand_label.iterrows(),total=len(new_dataframe_for_modelling_hand_label)):\n",
    "    result = get_vasari_features(file=row['filename'])\n",
    "    new_dataframe_for_modelling_hand_label.iloc[i,:]=result.values[0]"
   ]
  },
  {
   "cell_type": "code",
   "execution_count": null,
   "id": "e1c2023c",
   "metadata": {},
   "outputs": [],
   "source": [
    "for i, row in tqdm(new_dataframe_for_modelling_tumour_seg.iterrows(),total=len(new_dataframe_for_modelling_tumour_seg)):\n",
    "    result = get_vasari_features(file=row['filename'])\n",
    "    new_dataframe_for_modelling_tumour_seg.iloc[i,:]=result.values[0]"
   ]
  },
  {
   "cell_type": "code",
   "execution_count": null,
   "id": "deba64e2",
   "metadata": {},
   "outputs": [],
   "source": [
    "new_dataframe_for_modelling_hand_label.head()"
   ]
  },
  {
   "cell_type": "code",
   "execution_count": null,
   "id": "ef35fc64",
   "metadata": {},
   "outputs": [],
   "source": [
    "new_dataframe_for_modelling_tumour_seg.head()"
   ]
  },
  {
   "cell_type": "code",
   "execution_count": null,
   "id": "a9ef1fb8",
   "metadata": {},
   "outputs": [],
   "source": [
    "df.head()"
   ]
  },
  {
   "cell_type": "code",
   "execution_count": null,
   "id": "25d1a8eb",
   "metadata": {},
   "outputs": [],
   "source": [
    "all_data = pd.concat([df,new_dataframe_for_modelling_hand_label,new_dataframe_for_modelling_tumour_seg]).reset_index(drop=True)\n",
    "all_data['time_taken_seconds'] = all_data['time_taken_seconds'].astype(float)\n",
    "all_data['mode']='Consultant\\nNeuroradiologist'\n",
    "all_data.loc[all_data['reporter']=='VASARI-auto','mode']='VASARI-auto'\n",
    "all_data.loc[all_data['reporter']=='KPB','reporter']='#1'\n",
    "all_data.loc[all_data['reporter']=='HH','reporter']='#2'\n",
    "all_data.rename(columns={'reporter':'Reporter'},inplace=True)\n",
    "all_data['DataOrigin']='HandDrawn'\n",
    "\n",
    "for i, row in all_data.iterrows():\n",
    "    if 'model_prediction' in all_data.loc[i,'filename']:\n",
    "        all_data.loc[i,'DataOrigin']='TumourSeg'\n",
    "        \n",
    "    all_data.loc[i,'filename']=all_data.loc[i,'filename'].split('/')[-1]\n",
    "    all_data.loc[i,'filename']=all_data.loc[i,'filename'].split('.nii.gz')[0]\n",
    "all_data"
   ]
  },
  {
   "cell_type": "code",
   "execution_count": null,
   "id": "9aa37d0c",
   "metadata": {},
   "outputs": [],
   "source": [
    "all_data.columns"
   ]
  },
  {
   "cell_type": "code",
   "execution_count": null,
   "id": "3a72ae00",
   "metadata": {},
   "outputs": [],
   "source": [
    "def get_ytrue_ypred(df=all_data,hand_drawn_only=True):\n",
    "    y_true = df.loc[df['mode']=='Consultant\\nNeuroradiologist']\n",
    "    y_pred = df.loc[df['mode']=='VASARI-auto']\n",
    "\n",
    "    if hand_drawn_only:\n",
    "        y_pred = y_pred.loc[y_pred['DataOrigin']=='HandDrawn']\n",
    "    \n",
    "    y_true = y_true.drop_duplicates(subset='filename').sort_values(by='filename').reset_index(drop=True)\n",
    "    y_pred = y_pred.drop_duplicates(subset='filename').sort_values(by='filename').reset_index(drop=True)\n",
    "    \n",
    "    if list(y_true['filename']) != list(y_pred['filename']):\n",
    "        print('MISMATCH!')\n",
    "    \n",
    "    return y_true, y_pred"
   ]
  },
  {
   "cell_type": "code",
   "execution_count": null,
   "id": "b46907cd",
   "metadata": {},
   "outputs": [],
   "source": [
    "y_true, y_pred = get_ytrue_ypred()\n",
    "vasari_metric='F24 satellites'\n",
    "\n",
    "print(accuracy_score(y_true=y_true[vasari_metric].values.astype(int),y_pred=y_pred[vasari_metric].values.astype(int)))\n",
    "\n",
    "cm = confusion_matrix(y_true[vasari_metric].values.astype(int), y_pred=y_pred[vasari_metric].values.astype(int),labels=np.unique(y_true[vasari_metric].values.astype(int)))\n",
    "disp = ConfusionMatrixDisplay(confusion_matrix=cm,display_labels=np.unique(y_true[vasari_metric].values.astype(int)))\n",
    "disp.plot()\n",
    "plt.title(vasari_metric)"
   ]
  },
  {
   "cell_type": "code",
   "execution_count": null,
   "id": "06982082-9be6-47c9-ae74-813ef4fbf506",
   "metadata": {},
   "outputs": [],
   "source": [
    "y_true"
   ]
  },
  {
   "cell_type": "code",
   "execution_count": null,
   "id": "27287971-48b5-42f3-a355-7891833ffe5a",
   "metadata": {},
   "outputs": [],
   "source": [
    "y_pred\n",
    "\n",
    "#cortical 72\n",
    "#ependymal 78\n",
    "#deep wm 69"
   ]
  },
  {
   "cell_type": "code",
   "execution_count": null,
   "id": "c543fe64-32f2-4190-9caf-52fed3778ad0",
   "metadata": {},
   "outputs": [],
   "source": [
    "break"
   ]
  },
  {
   "cell_type": "code",
   "execution_count": null,
   "id": "8839c78c-2103-4ab0-80a2-cbf4850130df",
   "metadata": {},
   "outputs": [],
   "source": [
    "    # result = pd.DataFrame(columns=col_names)\n",
    "    # result.loc[len(result)] = {'filename':file,\n",
    "    #                            'reporter':'VASARI-auto',\n",
    "    #                           'time_taken_seconds':time_taken,\n",
    "    #                           'F1 Tumour Location':F1_dict[vols.iloc[0,0]], #vols.iloc[0,0],\n",
    "    #                           'F2 Side of Tumour Epicenter':F2_dict[side],\n",
    "    #                           'F3 Eloquent Brain':np.nan, #unsupported in current version\n",
    "    #                           'F4 Enhancement Quality':enhancement_quality,\n",
    "    #                           'F5 Proportion Enhancing':proportion_enhancing_f,\n",
    "    #                           'F6 Proportion nCET':proportion_nonenhancing_f,\n",
    "    #                           'F7 Proportion Necrosis':proportion_necrosis_f,\n",
    "    #                           'F8 Cyst(s)':num_components_ncet_f,\n",
    "    #                             'F9 Multifocal or Multicentric':f9_multifocal,\n",
    "    #                            'F10 T1/FLAIR Ratio':np.nan,  #unsupported in current version\n",
    "    #                            'F11 Thickness of enhancing margin':enhancing_thickness_f,\n",
    "    #                            'F12 Definition of the Enhancing margin':np.nan,  #unsupported in current version\n",
    "    #                            'F13 Definition of the non-enhancing tumour margin':np.nan,  #unsupported in current version\n",
    "    #                            'F14 Proportion of Oedema': proportion_oedema_f,\n",
    "    #                            'F16 haemorrhage':np.nan,  #unsupported in current version\n",
    "    #                            'F17 Diffusion':np.nan,  #unsupported in current version\n",
    "    #                            'F18 Pial invasion':np.nan, #unsupported in current version\n",
    "    #                            'F19 Ependymal Invasion':ependymal, \n",
    "    #                            'F20 Cortical involvement':cortical_lesioned_voxels_f,\n",
    "    #                            'F21 Deep WM invasion':deep_wm_f, \n",
    "    #                            'F22 nCET Crosses Midline':nCET_cross_midline_f,\n",
    "    #                            'F23 CET Crosses midline':CET_cross_midline_f,\n",
    "    #                            'F24 satellites':num_components_cet_f, \n",
    "    #                            'F25 Calvarial modelling':np.nan, #unsupported in current version\n",
    "    #                            'COMMENTS':'Please note that this software is in beta and utilises only irrevocably anonymised lesion masks. VASARI features that require source data shall not be derived and return NaN'\n",
    "    #                           }"
   ]
  },
  {
   "cell_type": "code",
   "execution_count": null,
   "id": "fc203081-1580-4919-a445-14836062b8c5",
   "metadata": {},
   "outputs": [],
   "source": [
    "balanced_accuracy_dict = {}\n",
    "\n",
    "for c in all_data.columns:\n",
    "    vasari_metric=c\n",
    "    try:\n",
    "        print(vasari_metric+' '+str(accuracy_score(y_true=y_true[vasari_metric].values.astype(int),y_pred=y_pred[vasari_metric].values.astype(int))))\n",
    "    except:\n",
    "        print(vasari_metric+' n/a')\n",
    "\n"
   ]
  },
  {
   "cell_type": "code",
   "execution_count": null,
   "id": "7f1e6254",
   "metadata": {},
   "outputs": [],
   "source": [
    "# UPENN-GBM-00157_11\n",
    "# if bilateral state so\n",
    "\n",
    "# UPENN-GBM-00164_11 should be corpus callosum and bilatearl\n",
    "# UPENN-GBM-00325_11 should be bilateral and brainstem, not thalamus\n",
    "# UPENN-GBM-00405_11 should be corpus callosum and bilatearl\n",
    "# UPENN-GBM-00407_11 should be corpus callosum and bilatearl\n",
    "# UCSF-PDGM-0232 all segmented as oedema not NET"
   ]
  },
  {
   "cell_type": "code",
   "execution_count": null,
   "id": "9502bfbd",
   "metadata": {},
   "outputs": [],
   "source": [
    "y_pred.columns"
   ]
  },
  {
   "cell_type": "code",
   "execution_count": null,
   "id": "1f87e7b3",
   "metadata": {},
   "outputs": [],
   "source": [
    "print(*(p for p,v in enumerate(zip(list(y_pred[vasari_metric]),list(y_true[vasari_metric]))) if v[0]^v[1]))"
   ]
  },
  {
   "cell_type": "code",
   "execution_count": null,
   "id": "f5fb63cd",
   "metadata": {},
   "outputs": [],
   "source": [
    "index = 3"
   ]
  },
  {
   "cell_type": "code",
   "execution_count": null,
   "id": "4aacd4cd",
   "metadata": {},
   "outputs": [],
   "source": [
    "y_true.iloc[index,:]"
   ]
  },
  {
   "cell_type": "code",
   "execution_count": null,
   "id": "67d3ed88",
   "metadata": {},
   "outputs": [],
   "source": [
    "y_pred.iloc[index,:]"
   ]
  },
  {
   "cell_type": "code",
   "execution_count": null,
   "id": "e75fd64a",
   "metadata": {},
   "outputs": [],
   "source": [
    "x='mode'\n",
    "y='time_taken_seconds'\n",
    "\n",
    "tt = stats.ttest_ind(all_data.loc[all_data[x]=='Consultant\\nNeuroradiologist',y].values,all_data.loc[all_data[x]=='VASARI-auto',y].values)\n",
    "print(tt.pvalue)\n",
    "\n",
    "plt.figure(figsize=(3.5,5))\n",
    "\n",
    "ax = sns.boxplot(data=all_data,x=x,y=y,dodge=True,saturation=0.1,fill=False,color='k',fliersize=0,legend=None,linewidth=.5,width=.5)\n",
    "ax = sns.swarmplot(data=all_data,x=x,y=y,hue='Reporter',dodge=False,size=3,alpha=.7)\n",
    "\n",
    "# annot = Annotator(ax,[('Consultant\\nNeuroradiologist','VASARI-auto')],data=all_data,x=x,y=y)\n",
    "# annot.configure(text_format='star',log='outside',verbose=2)\n",
    "# annot.apply_test()\n",
    "\n",
    "#asplit=True,gap=.1,inner='quart',dodge=True\n",
    "ax.set(xlabel='Labeller')\n",
    "ax.set(ylabel='Time taken (s)')\n",
    "ax.set_yscale('log')\n",
    "ticks = [0.5,1,2,4,8,16,32,64,128,256,512,1024]\n",
    "ax.set_yticks(ticks)\n",
    "ax.set_yticklabels(ticks)\n",
    "# ax,test_results = annot.annotate()\n",
    "# ax.legend(bbox_to_anchor=(1,1))\n",
    "plt.savefig(figures_out+\"efficiency.png\",dpi=150,bbox_inches='tight')"
   ]
  },
  {
   "cell_type": "code",
   "execution_count": null,
   "id": "1cf2a5b6",
   "metadata": {},
   "outputs": [],
   "source": [
    "v = df.filename.value_counts()\n",
    "duplicates = df[df.filename.isin(v.index[v.gt(1)])]\n",
    "duplicate_files = duplicates.loc[duplicates['reporter']=='KPB','filename'].values\n",
    "drop_cols = ['filename','OS','reporter','time_taken_seconds','F17 Diffusion','F25 Calvarial modelling','COMMENTS','F3 Eloquent Brain','F12 Definition of the Enhancing margin','F13 Definition of the non-enhancing tumour margin']\n",
    "\n",
    "def flatten(xss):\n",
    "    return [x for xs in xss for x in xs]\n",
    "\n",
    "duplicate_files"
   ]
  },
  {
   "cell_type": "code",
   "execution_count": null,
   "id": "cffe4305-3a36-4acf-9592-af2d92e8ca3b",
   "metadata": {},
   "outputs": [],
   "source": [
    "labeler0=[]\n",
    "labeler1=[]\n",
    "reporters = ['KPB','HH']\n",
    "\n",
    "for d in range(len(duplicate_files)):\n",
    "\n",
    "    for r in range(len(reporters)):\n",
    "        reporter_vals = duplicates.loc[(duplicates['filename']==duplicate_files[d])&(duplicates['reporter']==reporters[r])].copy()\n",
    "        reporter_vals.drop(drop_cols,axis=1,inplace=True)\n",
    "\n",
    "        if r == 0:\n",
    "            labeler0.append(reporter_vals.values[0])\n",
    "        if r == 1:\n",
    "            labeler1.append(reporter_vals.values[0])\n",
    "labeler0 = flatten(labeler0)\n",
    "labeler1 = flatten(labeler1)"
   ]
  },
  {
   "cell_type": "code",
   "execution_count": null,
   "id": "6ec45308-3746-413e-b8da-4ead391f445d",
   "metadata": {},
   "outputs": [],
   "source": [
    "reporter1 = pd.DataFrame(labeler0,columns=['VASARI'])\n",
    "reporter1['Reporter']='#1'\n",
    "reporter2 = pd.DataFrame(labeler1,columns=['VASARI'])\n",
    "reporter2['Reporter']='#2'\n",
    "\n",
    "reporters = pd.concat([reporter1,reporter2])\n",
    "reporters"
   ]
  },
  {
   "cell_type": "code",
   "execution_count": null,
   "id": "7c4253c5-f38e-4c38-bfca-22c308652816",
   "metadata": {},
   "outputs": [],
   "source": [
    "print(cohen_kappa_score(labeler0, labeler1,weights=None))\n",
    "\n",
    "plt.figure(figsize=(3.5,5))\n",
    "\n",
    "ax = sns.histplot(data=reporters,x='VASARI',hue='Reporter',multiple='stack',edgecolor=\".3\",\n",
    "    linewidth=.5)\n",
    "\n",
    "# ax.set(xlabel='Compartment')\n",
    "ax.set(ylabel='Feature rating incidence')\n",
    "\n",
    "plt.savefig(figures_out+\"inter-rater.png\",dpi=150,bbox_inches='tight')"
   ]
  },
  {
   "cell_type": "code",
   "execution_count": null,
   "id": "de197131-dd4d-42c4-9c45-6ebfc9e88c6b",
   "metadata": {},
   "outputs": [],
   "source": [
    "enhancing_label=3\n",
    "nonenhancing_label=1\n",
    "oedema_label=2\n",
    "from torch import tensor\n",
    "from torchmetrics.classification import Dice\n",
    "dice = Dice(average='micro')\n",
    "all_molecular_data = pd.read_csv('/mnt/wwn-0x5002538f4132e495/brc3_rsync/NEUROONCOLOGY/DATA/DEEP_TOPOLOGY_OUTPUTS/processed_csv/'+'all_molecular_data.csv',index_col=0)\n",
    "\n",
    "dice_df = pd.DataFrame(columns=['filename','filename_hand_label','filename_tumour_seg_label','Abnormality','Perilesional signal change','Nonenhancing tumour','Enhancing tumour','Age','Sex'])\n",
    "dice_df['filename']=neurorad_hand_label_subs\n",
    "dice_df['filename_hand_label']= new_dataframe_for_modelling_hand_label['filename']\n",
    "dice_df['filename_tumour_seg_label']= new_dataframe_for_modelling_tumour_seg['filename']\n",
    "\n",
    "for i, row in tqdm(dice_df.iterrows(),total=len(dice_df)):\n",
    "    if i==0:\n",
    "        hand_label_stack = np.zeros(shape=seg_hand_label.shape)\n",
    "        tumour_seg_stack = np.zeros(shape=seg_hand_label.shape)\n",
    "    \n",
    "    seg_hand_label = np.asanyarray(nib.load(row['filename_hand_label']).dataobj)\n",
    "    seg_tumour_seg = np.asanyarray(nib.load(row['filename_tumour_seg_label']).dataobj)\n",
    "    \n",
    "    #abnormality\n",
    "    seg_hand_label_abnormality = seg_hand_label.copy()\n",
    "    seg_hand_label_abnormality[seg_hand_label_abnormality>0]=1\n",
    "    seg_tumour_seg_abnormality = seg_tumour_seg.copy()\n",
    "    seg_tumour_seg_abnormality[seg_tumour_seg_abnormality>0]=1\n",
    "    dice_abnormality = dice(tensor(seg_tumour_seg_abnormality,dtype=int), tensor(seg_hand_label_abnormality,dtype=int))\n",
    "    hand_label_stack+=seg_hand_label_abnormality\n",
    "    tumour_seg_stack+=seg_tumour_seg_abnormality\n",
    "    \n",
    "    #oedema\n",
    "    seg_hand_label_oedema = seg_hand_label.copy()\n",
    "    seg_hand_label_oedema[seg_hand_label_oedema!=oedema_label]=0\n",
    "    seg_hand_label_oedema[seg_hand_label_oedema>0]=1\n",
    "    seg_tumour_seg_oedema = seg_tumour_seg.copy()\n",
    "    seg_tumour_seg_oedema[seg_tumour_seg_oedema!=oedema_label]=0\n",
    "    seg_tumour_seg_oedema[seg_tumour_seg_oedema>0]=1\n",
    "    dice_oedema = dice(tensor(seg_tumour_seg_oedema,dtype=int), tensor(seg_hand_label_oedema,dtype=int))\n",
    "    \n",
    "    #net\n",
    "    seg_hand_label_net = seg_hand_label.copy()\n",
    "    seg_hand_label_net[seg_hand_label_net!=nonenhancing_label]=0\n",
    "    seg_hand_label_net[seg_hand_label_net>0]=1\n",
    "    seg_tumour_seg_net = seg_tumour_seg.copy()\n",
    "    seg_tumour_seg_net[seg_tumour_seg_net!=nonenhancing_label]=0\n",
    "    seg_tumour_seg_net[seg_tumour_seg_net>0]=1\n",
    "    dice_net = dice(tensor(seg_tumour_seg_net,dtype=int), tensor(seg_hand_label_net,dtype=int))\n",
    "    \n",
    "    #et\n",
    "    seg_hand_label_et = seg_hand_label.copy()\n",
    "    seg_hand_label_et[seg_hand_label_et!=enhancing_label]=0\n",
    "    seg_hand_label_et[seg_hand_label_et>0]=1\n",
    "    seg_tumour_seg_et = seg_tumour_seg.copy()\n",
    "    seg_tumour_seg_et[seg_tumour_seg_et!=enhancing_label]=0\n",
    "    seg_tumour_seg_et[seg_tumour_seg_et>0]=1\n",
    "    dice_et = dice(tensor(seg_tumour_seg_et,dtype=int), tensor(seg_hand_label_et,dtype=int))\n",
    "\n",
    "    dice_df.loc[i,'Abnormality']=dice_abnormality.numpy()\n",
    "    dice_df.loc[i,'Perilesional signal change']=dice_oedema.numpy()\n",
    "    dice_df.loc[i,'Nonenhancing tumour']=dice_net.numpy()\n",
    "    dice_df.loc[i,'Enhancing tumour']=dice_et.numpy()\n",
    "\n",
    "    mrn = row['filename']\n",
    "    if len(all_molecular_data.loc[all_molecular_data['MRN']==mrn,'Age'])==0 and 'UCSF' in mrn:\n",
    "        mrn = 'UCSF-PDGM-'+str(int(mrn.split('-')[-1])).zfill(3)\n",
    "    \n",
    "    dice_df.loc[i,'Age']=all_molecular_data.loc[all_molecular_data['MRN']==mrn,'Age'].values[0]\n",
    "    dice_df.loc[i,'Sex']=all_molecular_data.loc[all_molecular_data['MRN']==mrn,'Male'].values[0]\n",
    "\n",
    "dice_df.loc[dice_df['Sex']==1,'Sex']='Male'\n",
    "dice_df.loc[dice_df['Sex']==0,'Sex']='Female'\n",
    "affine = nib.load(row['filename_hand_label']).affine\n",
    "hand_label_stack_nii = nib.Nifti1Image(hand_label_stack,affine=affine)\n",
    "tumour_seg_stack_nii = nib.Nifti1Image(tumour_seg_stack,affine=affine)\n",
    "nib.save(hand_label_stack_nii,figures_out+\"hand_label_stack_nii.nii.gz\")\n",
    "nib.save(tumour_seg_stack_nii,figures_out+\"tumour_seg_stack_nii.nii.gz\")"
   ]
  },
  {
   "cell_type": "code",
   "execution_count": null,
   "id": "ff2eb046-2f6e-49d6-a9d3-37487adca1b0",
   "metadata": {},
   "outputs": [],
   "source": [
    "dice_df.head()"
   ]
  },
  {
   "cell_type": "code",
   "execution_count": null,
   "id": "a7933105-22c1-4f69-92cb-451cd74ce29b",
   "metadata": {},
   "outputs": [],
   "source": [
    "dice_df.rename(columns={'Abnormality':'WT','Perilesional signal change':'PS','Nonenhancing tumour':'NET','Enhancing tumour':'ET'},inplace=True)\n",
    "dice_df_melt = pd.melt(dice_df,id_vars=['filename','filename_hand_label','filename_tumour_seg_label','Sex','Age'])\n",
    "dice_df_melt['value']=dice_df_melt['value'].astype(float)\n",
    "dice_df_melt['Age']=dice_df_melt['Age'].astype(float)\n",
    "dice_df_melt"
   ]
  },
  {
   "cell_type": "code",
   "execution_count": null,
   "id": "0ff60c31-2f5e-466c-9e5d-aa71e803b565",
   "metadata": {},
   "outputs": [],
   "source": [
    "x='variable'\n",
    "y='value'\n",
    "h='Sex'\n",
    "\n",
    "plt.figure(figsize=(3.5,5))\n",
    "\n",
    "ax = sns.boxplot(data=dice_df_melt,x=x,y=y,hue=h,dodge=True,fill=True,fliersize=0,legend=None,linewidth=.5,width=.5,boxprops=dict(alpha=.3))\n",
    "ax = sns.swarmplot(data=dice_df_melt,x=x,y=y,hue=h,dodge=True,size=3,alpha=.7)\n",
    "\n",
    "ax.set(xlabel='Compartment')\n",
    "ax.set(ylabel='Tumour segmentation Dice coefficient')\n",
    "plt.savefig(figures_out+\"dice_equitable_sex.png\",dpi=150,bbox_inches='tight')"
   ]
  },
  {
   "cell_type": "code",
   "execution_count": null,
   "id": "cc381660-d2a1-4a82-bb38-ee1da8f240e8",
   "metadata": {},
   "outputs": [],
   "source": [
    "x='Age'\n",
    "y='value'\n",
    "h='Sex'\n",
    "\n",
    "plt.figure(figsize=(3.5,3.5))\n",
    "\n",
    "# ax = sns.boxplot(data=dice_df_melt,x=x,y=y,hue=h,dodge=True,fill=True,fliersize=0,legend=None,linewidth=.5,width=.5,boxprops=dict(alpha=.3))\n",
    "ax = sns.scatterplot(data=dice_df_melt,x=x,y=y,hue=h,alpha=.7)\n",
    "\n",
    "ax.set(xlabel='Patient age')\n",
    "ax.set(ylabel='Tumour segmentation Dice coefficient')\n",
    "plt.savefig(figures_out+\"dice_equitable_age.png\",dpi=150,bbox_inches='tight')"
   ]
  },
  {
   "cell_type": "code",
   "execution_count": null,
   "id": "5558e9e4-0b43-4317-bb83-ec190b59ee98",
   "metadata": {},
   "outputs": [],
   "source": []
  }
 ],
 "metadata": {
  "kernelspec": {
   "display_name": "Python 3 (ipykernel)",
   "language": "python",
   "name": "python3"
  },
  "language_info": {
   "codemirror_mode": {
    "name": "ipython",
    "version": 3
   },
   "file_extension": ".py",
   "mimetype": "text/x-python",
   "name": "python",
   "nbconvert_exporter": "python",
   "pygments_lexer": "ipython3",
   "version": "3.10.12"
  }
 },
 "nbformat": 4,
 "nbformat_minor": 5
}
