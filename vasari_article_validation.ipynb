{
 "cells": [
  {
   "cell_type": "markdown",
   "id": "d905db48",
   "metadata": {},
   "source": [
    "# This is the codebase for validation of VASARI-auto\n",
    "\n",
    "###\tvasari-auto.py | a pipeline for automated VASARI characterisation of glioma.\n",
    "\n",
    "###\tCopyright 2024 James Ruffle, High-Dimensional Neurology, UCL Queen Square Institute of Neurology.\n",
    "\n",
    "###\tThis program is licensed under the APACHE 2.0 license.\n",
    "\n",
    "###\tThis program is distributed in the hope that it will be useful, but WITHOUT ANY WARRANTY; without even the implied warranty of MERCHANTABILITY or FITNESS FOR A PARTICULAR PURPOSE.  \n",
    "\n",
    "###\tSee the License for more details.\n",
    "\n",
    "###\tThis code is part of the repository https://github.com/james-ruffle/vasari-auto\n",
    "\n",
    "###\tCorrespondence to Dr James K Ruffle by email: j.ruffle@ucl.ac.uk"
   ]
  },
  {
   "cell_type": "code",
   "execution_count": 1,
   "id": "a4130df2",
   "metadata": {},
   "outputs": [
    {
     "name": "stdout",
     "output_type": "stream",
     "text": [
      "/usr/bin/python3\n",
      "3.10.12 (main, Nov 20 2023, 15:14:05) [GCC 11.4.0]\n",
      "sys.version_info(major=3, minor=10, micro=12, releaselevel='final', serial=0)\n"
     ]
    }
   ],
   "source": [
    "import sys\n",
    "print(sys.executable)\n",
    "print(sys.version)\n",
    "print(sys.version_info)"
   ]
  },
  {
   "cell_type": "code",
   "execution_count": 2,
   "id": "6484321f",
   "metadata": {},
   "outputs": [],
   "source": [
    "#Import packages\n",
    "import glob\n",
    "import numpy as np\n",
    "import os\n",
    "import pandas as pd\n",
    "import shutil\n",
    "import errno\n",
    "import subprocess\n",
    "from datetime import datetime\n",
    "from tqdm import tqdm\n",
    "import argparse\n",
    "import nibabel as nib\n",
    "from scipy.ndimage import label, generate_binary_structure\n",
    "import matplotlib.pyplot as plt\n",
    "from scipy import ndimage, misc\n",
    "import seaborn as sns\n",
    "from sklearn.metrics import *\n",
    "import time\n",
    "from skimage.morphology import skeletonize\n",
    "import matplotlib.ticker as mticker\n",
    "from scipy import stats\n",
    "pd.set_option('display.max_rows', 500)\n",
    "from sklearn.metrics import confusion_matrix, ConfusionMatrixDisplay"
   ]
  },
  {
   "cell_type": "code",
   "execution_count": 3,
   "id": "8a4db2e2",
   "metadata": {},
   "outputs": [],
   "source": [
    "desktop = False\n",
    "mac = False\n",
    " \n",
    "if desktop:\n",
    "    user = 'jamesruffle'\n",
    "if not desktop:\n",
    "    user = 'jruffle'\n",
    "\n",
    "if mac:\n",
    "    user = '/Users/'+str(user)+'/Library/CloudStorage/OneDrive-UniversityCollegeLondon/'\n",
    "if not mac:\n",
    "    user = '/home/'+str(user)+'/OneDrive/'"
   ]
  },
  {
   "cell_type": "code",
   "execution_count": 4,
   "id": "3932f379",
   "metadata": {},
   "outputs": [
    {
     "name": "stdout",
     "output_type": "stream",
     "text": [
      "Number of lesions: 100\n",
      "\n",
      "#unique lesions: 87\n",
      "\n",
      "#number double reported for inter-rater variability: 13\n"
     ]
    }
   ],
   "source": [
    "#where annotated nifti segmentations will be pulled from\n",
    "seg_path = str(user)+'PhD/VASARI/data/RADIOLOGISTS/IMAGES/'\n",
    "\n",
    "#atlas paths\n",
    "atlases = str(user)+'PhD/VASARI/TUTORIAL/atlas_masks/'\n",
    "\n",
    "#consultant neuroradiologist validation\n",
    "df = pd.read_excel(str(user)+'PhD/VASARI/data/labelled_data/merged_radiologist_labelled_data.xlsx',index_col=0)\n",
    "for i, row in df.iterrows():\n",
    "    if 'UCSF' in df.loc[i,'filename']:\n",
    "        padded_num = row['filename'].split('-')[-1].zfill(4)\n",
    "        df.loc[i,'filename'] = 'UCSF-PDGM-'+str(padded_num)\n",
    "\n",
    "#segmentations to evaluate\n",
    "model_prediction = str(user)+'PhD/forFAITH/model_prediction/'\n",
    "neurorad_hand_label = str(user)+'PhD/forFAITH/neurorad_hand_label/'\n",
    "\n",
    "neurorad_hand_label_subs = df['filename'].values\n",
    "\n",
    "figures_out = str(user)+'PhD/VASARI/Results/figs_output/'\n",
    "\n",
    "print(\"Number of lesions: \"+str(len(neurorad_hand_label_subs)))\n",
    "print('')\n",
    "print('#unique lesions: '+str(len(df['filename'].unique())))\n",
    "print('')\n",
    "print('#number double reported for inter-rater variability: '+str(len(neurorad_hand_label_subs)-len(df['filename'].unique())))"
   ]
  },
  {
   "cell_type": "code",
   "execution_count": 5,
   "id": "b60cc2b7",
   "metadata": {},
   "outputs": [
    {
     "name": "stderr",
     "output_type": "stream",
     "text": [
      "100%|███████████████████████████████████████| 100/100 [00:00<00:00, 7554.85it/s]\n"
     ]
    }
   ],
   "source": [
    "time_str = '8m 43s'\n",
    "time_str\n",
    "\n",
    "def time_string_to_seconds(time_str):\n",
    "    minutes, seconds = int(time_str.split('m')[0]), int(time_str.split('m')[-1].split('s')[0])\n",
    "    total_seconds = minutes * 60 + seconds\n",
    "    return total_seconds\n",
    "\n",
    "for i, row in tqdm(df.iterrows(),total=len(df)):\n",
    "    df.loc[i,'time_taken_seconds']=time_string_to_seconds(row['time_taken_seconds'])"
   ]
  },
  {
   "cell_type": "code",
   "execution_count": 6,
   "id": "8fc6aa4c",
   "metadata": {},
   "outputs": [],
   "source": [
    "col_names = ['filename', 'reporter', 'time_taken_seconds',\n",
    "           'F1 Tumour Location', 'F2 Side of Tumour Epicenter',\n",
    "           'F3 Eloquent Brain', 'F4 Enhancement Quality',\n",
    "           'F5 Proportion Enhancing', 'F6 Proportion nCET',\n",
    "           'F7 Proportion Necrosis', 'F8 Cyst(s)', 'F9 Multifocal or Multicentric',\n",
    "           'F10 T1/FLAIR Ratio', 'F11 Thickness of enhancing margin',\n",
    "           'F12 Definition of the Enhancing margin',\n",
    "           'F13 Definition of the non-enhancing tumour margin',\n",
    "           'F14 Proportion of Oedema', 'F16 haemorrhage', 'F17 Diffusion',\n",
    "           'F18 Pial invasion', 'F19 Ependymal Invasion',\n",
    "           'F20 Cortical involvement', 'F21 Deep WM invasion', \n",
    "                 'F22 nCET Crosses Midline', 'F23 CET Crosses midline',\n",
    "                 'F24 satellites',\n",
    "           'F25 Calvarial modelling', 'COMMENTS']\n",
    "\n",
    "new_dataframe_for_modelling_hand_label = pd.DataFrame(columns=col_names)\n",
    "new_dataframe_for_modelling_hand_label['filename']=neurorad_hand_label+neurorad_hand_label_subs+'.nii.gz'\n",
    "\n",
    "new_dataframe_for_modelling_tumour_seg = pd.DataFrame(columns=col_names)\n",
    "new_dataframe_for_modelling_tumour_seg['filename']=model_prediction+neurorad_hand_label_subs+'.nii.gz'"
   ]
  },
  {
   "cell_type": "code",
   "execution_count": 7,
   "id": "6e747baf-5059-4424-951c-20ecba23a865",
   "metadata": {},
   "outputs": [],
   "source": [
    "from vasari_auto import get_vasari_features"
   ]
  },
  {
   "cell_type": "code",
   "execution_count": 8,
   "id": "e056279c",
   "metadata": {},
   "outputs": [
    {
     "name": "stderr",
     "output_type": "stream",
     "text": [
      "100%|█████████████████████████████████████████| 100/100 [04:26<00:00,  2.67s/it]\n"
     ]
    }
   ],
   "source": [
    "for i, row in tqdm(new_dataframe_for_modelling_hand_label.iterrows(),total=len(new_dataframe_for_modelling_hand_label)):\n",
    "    result = get_vasari_features(file=row['filename'])\n",
    "    new_dataframe_for_modelling_hand_label.iloc[i,:]=result.values[0]"
   ]
  },
  {
   "cell_type": "code",
   "execution_count": null,
   "id": "e1c2023c",
   "metadata": {},
   "outputs": [
    {
     "name": "stderr",
     "output_type": "stream",
     "text": [
      " 34%|██████████████▎                           | 34/100 [01:29<02:53,  2.62s/it]"
     ]
    }
   ],
   "source": [
    "for i, row in tqdm(new_dataframe_for_modelling_tumour_seg.iterrows(),total=len(new_dataframe_for_modelling_tumour_seg)):\n",
    "    result = get_vasari_features(file=row['filename'])\n",
    "    new_dataframe_for_modelling_tumour_seg.iloc[i,:]=result.values[0]"
   ]
  },
  {
   "cell_type": "code",
   "execution_count": null,
   "id": "93021b04",
   "metadata": {},
   "outputs": [],
   "source": [
    "get_vasari_features(file=neurorad_hand_label+'UCSF-PDGM-0032.nii.gz',verbose=True)"
   ]
  },
  {
   "cell_type": "code",
   "execution_count": null,
   "id": "deba64e2",
   "metadata": {},
   "outputs": [],
   "source": [
    "new_dataframe_for_modelling_hand_label.head()"
   ]
  },
  {
   "cell_type": "code",
   "execution_count": null,
   "id": "ef35fc64",
   "metadata": {},
   "outputs": [],
   "source": [
    "new_dataframe_for_modelling_tumour_seg.head()"
   ]
  },
  {
   "cell_type": "code",
   "execution_count": null,
   "id": "a9ef1fb8",
   "metadata": {},
   "outputs": [],
   "source": [
    "df.head()"
   ]
  },
  {
   "cell_type": "code",
   "execution_count": null,
   "id": "25d1a8eb",
   "metadata": {},
   "outputs": [],
   "source": [
    "all_data = pd.concat([df,new_dataframe_for_modelling_hand_label,new_dataframe_for_modelling_tumour_seg]).reset_index(drop=True)\n",
    "all_data['time_taken_seconds'] = all_data['time_taken_seconds'].astype(float)\n",
    "all_data['mode']='Consultant\\nNeuroradiologist'\n",
    "all_data.loc[all_data['reporter']=='VASARI-auto','mode']='VASARI-auto'\n",
    "all_data.loc[all_data['reporter']=='KPB','reporter']='#1'\n",
    "all_data.loc[all_data['reporter']=='HH','reporter']='#2'\n",
    "all_data.rename(columns={'reporter':'Reporter'},inplace=True)\n",
    "all_data['DataOrigin']='HandDrawn'\n",
    "\n",
    "for i, row in all_data.iterrows():\n",
    "    if 'model_prediction' in all_data.loc[i,'filename']:\n",
    "        all_data.loc[i,'DataOrigin']='TumourSeg'\n",
    "        \n",
    "    all_data.loc[i,'filename']=all_data.loc[i,'filename'].split('/')[-1]\n",
    "    all_data.loc[i,'filename']=all_data.loc[i,'filename'].split('.nii.gz')[0]\n",
    "all_data"
   ]
  },
  {
   "cell_type": "code",
   "execution_count": null,
   "id": "9aa37d0c",
   "metadata": {},
   "outputs": [],
   "source": [
    "all_data.columns"
   ]
  },
  {
   "cell_type": "code",
   "execution_count": null,
   "id": "3a72ae00",
   "metadata": {},
   "outputs": [],
   "source": [
    "def get_ytrue_ypred(df=all_data):\n",
    "    y_true = df.loc[df['mode']=='Consultant\\nNeuroradiologist']\n",
    "    y_pred = df.loc[df['mode']=='VASARI-auto']\n",
    "    \n",
    "    y_true = y_true.drop_duplicates(subset='filename').sort_values(by='filename').reset_index(drop=True)\n",
    "    y_pred = y_pred.drop_duplicates(subset='filename').sort_values(by='filename').reset_index(drop=True)\n",
    "    \n",
    "    if list(y_true['filename']) != list(y_pred['filename']):\n",
    "        print('MISMATCH!')\n",
    "    \n",
    "    return y_true, y_pred"
   ]
  },
  {
   "cell_type": "code",
   "execution_count": null,
   "id": "b46907cd",
   "metadata": {},
   "outputs": [],
   "source": [
    "y_true, y_pred = get_ytrue_ypred()\n",
    "vasari_metric='F19 Ependymal Invasion'\n",
    "\n",
    "print(accuracy_score(y_true=y_true[vasari_metric].values.astype(int),y_pred=y_pred[vasari_metric].values.astype(int)))\n",
    "\n",
    "cm = confusion_matrix(y_true[vasari_metric].values.astype(int), y_pred=y_pred[vasari_metric].values.astype(int),labels=np.unique(y_true[vasari_metric].values.astype(int)))\n",
    "disp = ConfusionMatrixDisplay(confusion_matrix=cm,display_labels=np.unique(y_true[vasari_metric].values.astype(int)))\n",
    "disp.plot()\n",
    "plt.title(vasari_metric)"
   ]
  },
  {
   "cell_type": "code",
   "execution_count": null,
   "id": "7f1e6254",
   "metadata": {},
   "outputs": [],
   "source": [
    "# UPENN-GBM-00157_11\n",
    "# if bilateral state so\n",
    "\n",
    "# UPENN-GBM-00164_11 should be corpus callosum and bilatearl\n",
    "# UPENN-GBM-00325_11 should be bilateral and brainstem, not thalamus\n",
    "# UPENN-GBM-00405_11 should be corpus callosum and bilatearl\n",
    "# UPENN-GBM-00407_11 should be corpus callosum and bilatearl\n",
    "# UCSF-PDGM-0232 all segmented as oedema not NET"
   ]
  },
  {
   "cell_type": "code",
   "execution_count": null,
   "id": "9502bfbd",
   "metadata": {},
   "outputs": [],
   "source": [
    "y_pred.columns"
   ]
  },
  {
   "cell_type": "code",
   "execution_count": null,
   "id": "1f87e7b3",
   "metadata": {},
   "outputs": [],
   "source": [
    "print(*(p for p,v in enumerate(zip(list(y_pred[vasari_metric]),list(y_true[vasari_metric]))) if v[0]^v[1]))"
   ]
  },
  {
   "cell_type": "code",
   "execution_count": null,
   "id": "f5fb63cd",
   "metadata": {},
   "outputs": [],
   "source": [
    "index = 3"
   ]
  },
  {
   "cell_type": "code",
   "execution_count": null,
   "id": "4aacd4cd",
   "metadata": {},
   "outputs": [],
   "source": [
    "y_true.iloc[index,:]"
   ]
  },
  {
   "cell_type": "code",
   "execution_count": null,
   "id": "67d3ed88",
   "metadata": {},
   "outputs": [],
   "source": [
    "y_pred.iloc[index,:]"
   ]
  },
  {
   "cell_type": "code",
   "execution_count": null,
   "id": "e75fd64a",
   "metadata": {},
   "outputs": [],
   "source": [
    "x='mode'\n",
    "y='time_taken_seconds'\n",
    "\n",
    "tt = stats.ttest_ind(all_data.loc[all_data[x]=='Consultant\\nNeuroradiologist',y].values,all_data.loc[all_data[x]=='VASARI-auto',y].values)\n",
    "print(tt.pvalue)\n",
    "\n",
    "plt.figure(figsize=(3.5,5))\n",
    "\n",
    "ax = sns.boxplot(data=all_data,x=x,y=y,dodge=True,saturation=0.1,fill=False,color='k',fliersize=0,legend=None,linewidth=.5,width=.5)\n",
    "ax = sns.swarmplot(data=all_data,x=x,y=y,hue='Reporter',dodge=False,size=3,alpha=.7)\n",
    "\n",
    "# annot = Annotator(ax,[('Consultant\\nNeuroradiologist','VASARI-auto')],data=all_data,x=x,y=y)\n",
    "# annot.configure(text_format='star',log='outside',verbose=2)\n",
    "# annot.apply_test()\n",
    "\n",
    "#asplit=True,gap=.1,inner='quart',dodge=True\n",
    "ax.set(xlabel='Labeller')\n",
    "ax.set(ylabel='Time taken (s)')\n",
    "ax.set_yscale('log')\n",
    "ticks = [0.5,1,2,4,8,16,32,64,128,256,512,1024]\n",
    "ax.set_yticks(ticks)\n",
    "ax.set_yticklabels(ticks)\n",
    "# ax,test_results = annot.annotate()\n",
    "# ax.legend(bbox_to_anchor=(1,1))\n",
    "plt.savefig(figures_out+\"efficiency.png\",dpi=150,bbox_inches='tight')"
   ]
  },
  {
   "cell_type": "code",
   "execution_count": null,
   "id": "1cf2a5b6",
   "metadata": {},
   "outputs": [],
   "source": []
  },
  {
   "cell_type": "code",
   "execution_count": null,
   "id": "68cfd133",
   "metadata": {},
   "outputs": [],
   "source": []
  }
 ],
 "metadata": {
  "kernelspec": {
   "display_name": "Python 3 (ipykernel)",
   "language": "python",
   "name": "python3"
  },
  "language_info": {
   "codemirror_mode": {
    "name": "ipython",
    "version": 3
   },
   "file_extension": ".py",
   "mimetype": "text/x-python",
   "name": "python",
   "nbconvert_exporter": "python",
   "pygments_lexer": "ipython3",
   "version": "3.10.12"
  }
 },
 "nbformat": 4,
 "nbformat_minor": 5
}
